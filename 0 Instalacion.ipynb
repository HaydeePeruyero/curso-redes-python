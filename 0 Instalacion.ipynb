{
 "cells": [
  {
   "cell_type": "markdown",
   "metadata": {},
   "source": [
    "# Instalación"
   ]
  },
  {
   "cell_type": "markdown",
   "metadata": {},
   "source": [
    "## 0. Instrucciones de instalación "
   ]
  },
  {
   "cell_type": "markdown",
   "metadata": {},
   "source": [
    "### 0.1.1 Descarga del material del curso"
   ]
  },
  {
   "cell_type": "markdown",
   "metadata": {},
   "source": [
    "La estructura y algunas ideas del siguiente curso se tomaron de  [https://github.com/fbkarsdorp/twitter-workshop](https://github.com/fbkarsdorp/twitter-workshop), pero se incluye nuevo contenido en las primeras dos secciones y además se agregan dos secciones extras.\n",
    "\n",
    "Para descargar el material del curso, por favor ve a la siguiente [liga](https://github.com/psuarezserrato/curso-redes-python)."
   ]
  },
  {
   "cell_type": "markdown",
   "metadata": {},
   "source": [
    "### 0.1.2 Instalar Python3"
   ]
  },
  {
   "cell_type": "markdown",
   "metadata": {},
   "source": [
    "Python es un lenguaje de programación que podemos encontrar en dos versiones: Python2 y Python3. Actualmente se encuentra incorporado nativamente en Linux y Mac Os, sin embargo podemos optar por instalar otra distribución como _Anaconda_. En este curso utilizaremos Python en su versión 3,  trabajar con la distribución nativa o con otra que instalemos no implica diferencia alguna para este curso. Si no sabemos cómo comprobar la versión por _default_ en nuestro sistema o estamos utilizando Windows, podemos directamente descargar e instalar la distribución de _Anaconda_ mediante el siguiente enlace:\n",
    "\n",
    "[Descarga Anaconda](https://www.continuum.io/downloads)"
   ]
  },
  {
   "cell_type": "markdown",
   "metadata": {},
   "source": [
    "### 0.1.3 Correr el Notebook."
   ]
  },
  {
   "cell_type": "markdown",
   "metadata": {},
   "source": [
    "Una vez que esté instalado Python 3, hacemos lo siguiente:\n",
    " * Usuarios Windows\n",
    "     * Escribir en el buscador de aplicaciones `'jupyter notebook'`.\n",
    " * Usuarios Linux\n",
    "     * Abrir una terminal y escribir `'ipython notebook'`. \n",
    " * Usuarios OS \n",
    "     * Abrir una terminal y escribir `'jupyter notebook'` o `'./anaconda/bin/jupyter-notebook'`.\n",
    "\n",
    "Esto va a correr jupyter notebook en tu navegador.  Busca la carperta del curso y da clic en notebook correspondiente, abre y navega en el material."
   ]
  },
  {
   "cell_type": "markdown",
   "metadata": {},
   "source": [
    "### 0.2 Instalación de los módulos de Pyhton."
   ]
  },
  {
   "cell_type": "markdown",
   "metadata": {},
   "source": [
    "Durante el curso necesitaremos los siguientes módulos de Python _[Tweepy](http://docs.tweepy.org/en/v3.5.0/), [Botometer](https://pypi.org/project/botometer/1.0/), [NertworkX](https://networkx.github.io/) y [Seaborn](https://seaborn.pydata.org/)_ desarrollados por terceros, instalaremos de manera manual los módulos Tweepy y Botometer, pues los módulos NertworkX y Seaborn ya vienen preinstalados con Python-Anaconda, el cual ya instalamos anteriormente.   "
   ]
  },
  {
   "cell_type": "markdown",
   "metadata": {},
   "source": [
    "### 0.2.1 Instalar Tweepy"
   ]
  },
  {
   "cell_type": "markdown",
   "metadata": {},
   "source": [
    "El lenguaje de programación de Python tiene predefinidas diversos comandos que nos ayudan a manipular toda clase de datos. Sin embargo, las distribuciones estándar de Python no cuentan inicialmente con los comandos necesarios para trabajar con Twitter, para esto existe el módulo Tweepy, el cual contiene todas las herramientas necesarias para comunicarte con Twitter. Para utilizar dicho paquete, procedemos a instalarlo mediante los siguientes pasos: \n",
    " * Ir a la siguiente dirección [https://github.com/tweepy/tweepy](https://github.com/tweepy/tweepy).\n",
    " * Dar click en _Clone or download_ (Botón verde) e inmediatamente dar click en _Download zip_.\n",
    " * Descomprimir la carpeta .\n",
    " * Abrimos la carpeta que acabamos de descomprimir.\n",
    " * Abrimos la ventana de comandos o terminal.\n",
    "     * Windows\n",
    "         * Presionamos _shift_ + _click derecho_.\n",
    "         * Seleccionamos _Abrir ventana de comandos aquí_.\n",
    "     * Ubuntu y Mac OS X\n",
    "         * Abrimos la aplicación _Terminal_ .\n",
    "         * Con la instrucción `cd` nos movemos al directorio donde se descomprimió la carpeta. \n",
    "\n",
    "Por ejemplo si descomprimimos en el Escritorio, el comando sería `cd /home/TuUsuario/Desktop/tweepy-master/`.\n",
    " * Por último, ya habilitados los permisos de instalación, escribimos:\n",
    "     * `python setup.py install` (Windows)\n",
    "     * `sudo python setup.py install` (Linux)\n",
    "     * `../../anaconda/bin/python3.6 setup.py install` (Mac OS)\n",
    "     \n",
    "Con todo lo anterior ya tenemos instalado en paquete Tweepy (versión más reciente) en nuestra computadora. Hay otra manera de instalar el paquete Tweepy (pero cabe la posibilidad de que no se instale la versión más reciente), para esto: \n",
    " * Abrimos \n",
    "     * Ventanda de comandos (Windows)  \n",
    "     * Terminal (Linux o Mac OS)\n",
    " * Escribimos \n",
    "     * `!pip install tweepy`\n",
    "     \n",
    "**Nota**:Los pasos realizados anteriormente sólo se cumplen para _Ubuntu_, en caso de contar con una distribucion de Linux distinta, deberá hacerdo acorde a su distribucion de Linux.\n",
    "\n",
    "Ahora probemos que la instalación de tweepy se realizo correctamente corriendo el siguiente código:"
   ]
  },
  {
   "cell_type": "code",
   "execution_count": null,
   "metadata": {
    "collapsed": true
   },
   "outputs": [],
   "source": [
    "import tweepy"
   ]
  },
  {
   "cell_type": "markdown",
   "metadata": {},
   "source": [
    "### 0.2.2 Instalar Botometer"
   ]
  },
  {
   "cell_type": "markdown",
   "metadata": {},
   "source": [
    "El módulo `Botometer` es utilizado para poder determinar cuando una cuenta de Twitter puede ser humano o bot, éste fue desarrollado por la Universidad de Indiana.  \n",
    "\n",
    "Para instalarlo realizamos los siguientes pasos:\n",
    " * Ir a la siguiente dirección [https://github.com/IUNetSci/botometer-python](https://github.com/IUNetSci/botometer-python).\n",
    " * Dar click en _Clone or download_ (Botón verde) e inmediatamente dar click en _Download zip_.\n",
    " * Descomprimir la carpeta .\n",
    " * Abrimos la carpeta que acabamos de descomprimir.\n",
    " * Abrimos la ventana de comandos o terminal.\n",
    "     * Windows\n",
    "         * Presionamos _shift_ + _click derecho_.\n",
    "         * Seleccionamos _Abrir ventana de comandos aquí_.\n",
    "     * Ubuntu y Mac OS X\n",
    "         * Abrimos la aplicación _Terminal_ .\n",
    "         * Con la instrucción `cd` nos movemos al directorio donde se descomprimió la carpeta. \n",
    "\n",
    "Por ejemplo si descomprimimos en el Escritorio, el comando sería `cd /home/TuUsuario/Desktop/botometer-python-master/`.\n",
    " * Por último, ya habilitados los permisos de instalación, escribimos:\n",
    "     * `python setup.py install` (Windows)\n",
    "     * `sudo python setup.py install` (Linux)\n",
    "     * `../../anaconda/bin/python3.6 setup.py install` (Mac OS)\n",
    "     \n",
    "Ahora probemos que la instalación de botometer se realizo correctamente corriendo el siguiente código:\n"
   ]
  },
  {
   "cell_type": "code",
   "execution_count": null,
   "metadata": {
    "collapsed": true
   },
   "outputs": [],
   "source": [
    "import botometer"
   ]
  },
  {
   "cell_type": "markdown",
   "metadata": {},
   "source": [
    "### 0.2.2 Instalar Networkx"
   ]
  },
  {
   "cell_type": "markdown",
   "metadata": {},
   "source": [
    "En Python el módulo que puede emplearse para trabajar con gráficas es **networkx**. Para instalarlo, los pasos son similares a los usados para instalar _tweepy_ y _botometer_. Para instalar _networkx_ seguimos los siguientes pasos:\n",
    "\n",
    " * Ir a la siguiente dirección [https://github.com/networkx/networkx/](https://github.com/networkx/networkx/).\n",
    " * Dar click en _Clone or download_ (Botón verde) e inmediatamente dar click en _Download zip_.\n",
    " * Descomprimir la carpeta .\n",
    " * Abrimos la carpeta que acabamos de descomprimir.\n",
    " * Abrimos la ventana de comandos o terminal.\n",
    "     * Windows\n",
    "         * Presionamos _shift_ + _click derecho_.\n",
    "         * Seleccionamos _Abrir ventana de comandos aquí_.\n",
    "     * Ubuntu y Mac OS X\n",
    "         * Abrimos la aplicación _Terminal_ .\n",
    "         * Con la instrucción `cd` nos movemos al directorio donde se descomprimió la carpeta. \n",
    "\n",
    "Por ejemplo si descomprimimos en el Escritorio, el comando sería `cd /home/TuUsuario/Desktop/networkx-master/`.\n",
    " * Por último, ya habilitados los permisos de instalación, escribimos:\n",
    "     * python setup.py install (Windows)\n",
    "     * sudo python setup.py install (Linux)\n",
    "     * (OS X)\n",
    "\n",
    "Probemos que lo instalamos correctamente corriendo el siguiente código:"
   ]
  },
  {
   "cell_type": "code",
   "execution_count": null,
   "metadata": {
    "collapsed": true
   },
   "outputs": [],
   "source": [
    "import networkx as nx"
   ]
  },
  {
   "cell_type": "markdown",
   "metadata": {},
   "source": [
    "### 0.2.4 Instalar Unidecode."
   ]
  },
  {
   "cell_type": "markdown",
   "metadata": {},
   "source": [
    "Este módulo es necesario para poder traducir exitosamente todos los caracteres utilizados en el idioma español (como por ejemplo la letra ñ, vocales acentuadas, etc) a código de caracteres _ASCII_ y facilitar el análisis de texto.\n",
    "\n",
    "Para instalarlo realizamos los siguientes pasos: \n",
    "* Ir a la siguiente dirección [https://github.com/iki/unidecode](https://github.com/iki/unidecode).\n",
    " * Dar click en _Clone or download_ (Botón verde) e inmediatamente dar click en _Download zip_.\n",
    " * Descomprimir la carpeta .\n",
    " * Abrimos la carpeta que acabamos de descomprimir.\n",
    " * Abrimos la ventana de comandos o terminal.\n",
    "     * Windows\n",
    "         * Presionamos _shift_ + _click derecho_.\n",
    "         * Seleccionamos _Abrir ventana de comandos aquí_.\n",
    "     * Ubuntu y Mac OS X\n",
    "         * Abrimos la aplicación _Terminal_ .\n",
    "         * Con la instrucción `cd` nos movemos al directorio donde se descomprimió la carpeta. \n",
    "\n",
    "Por ejemplo si descomprimimos en el Escritorio, el comando sería `cd /home/TuUsuario/Desktop/unidecode-master/`.\n",
    " * Por último, ya habilitados los permisos de instalación, escribimos:\n",
    "     * `python setup.py install` (Windows)\n",
    "     * `sudo python setup.py install` (Linux)\n",
    "     * `../../anaconda/bin/python3.6 setup.py install` (Mac OS)\n",
    "     \n",
    "Probemos que lo instalamos correctamente corriendo el siguiente código:\n"
   ]
  },
  {
   "cell_type": "code",
   "execution_count": null,
   "metadata": {
    "collapsed": true
   },
   "outputs": [],
   "source": [
    "import unidecode"
   ]
  }
 ],
 "metadata": {
  "kernelspec": {
   "display_name": "Python 2",
   "language": "python",
   "name": "python2"
  },
  "language_info": {
   "codemirror_mode": {
    "name": "ipython",
    "version": 2
   },
   "file_extension": ".py",
   "mimetype": "text/x-python",
   "name": "python",
   "nbconvert_exporter": "python",
   "pygments_lexer": "ipython2",
   "version": "2.7.11"
  }
 },
 "nbformat": 4,
 "nbformat_minor": 0
}

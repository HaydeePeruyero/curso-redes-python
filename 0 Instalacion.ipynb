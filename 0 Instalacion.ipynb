{
 "cells": [
  {
   "cell_type": "markdown",
   "metadata": {},
   "source": [
    "# Python"
   ]
  },
  {
   "cell_type": "markdown",
   "metadata": {},
   "source": [
    "## 0. Instrucciones de instalación "
   ]
  },
  {
   "cell_type": "markdown",
   "metadata": {},
   "source": [
    "### 0.1.1 Descarga del material del curso"
   ]
  },
  {
   "cell_type": "markdown",
   "metadata": {},
   "source": [
    "La estructura y algunas ideas del siguiente curso se tomaron de  [https://github.com/fbkarsdorp/twitter-workshop](https://github.com/fbkarsdorp/twitter-workshop), pero se incluye nuevo contenido en las primeras tres secciones y además de que se agregan secciones extras.\n",
    "\n",
    "Para descargar el material del curso, por favor ve a la siguiente liga []()."
   ]
  },
  {
   "cell_type": "markdown",
   "metadata": {},
   "source": [
    "### 0.1.2 Instalar Python3"
   ]
  },
  {
   "cell_type": "markdown",
   "metadata": {},
   "source": [
    "Python es un lenguaje de programación que podemos encontrar en dos versiones: Python2 y Python3. Actualmente se encuentra incorporado nativamente en Linux y Mac Os, sin embargo podemos optar por instalar otra distribución como _Anaconda_. En este curso utilizaremos Python en su versión 3,  trabajar con la distribución nativa o con otra que instalemos no implica diferencia alguna para este curso. Si no sabemos cómo comprobar la versión por _default_ en nuestro sistema o estamos utilizando Windows, podemos directamente descargar e instalar la distribución de _Anaconda_ mediante el siguiente enlace:\n",
    "\n",
    "[Descarga Anaconda](https://www.continuum.io/downloads)"
   ]
  },
  {
   "cell_type": "markdown",
   "metadata": {},
   "source": [
    "### 0.2 Instlación de los módulos de Pyhton."
   ]
  },
  {
   "cell_type": "markdown",
   "metadata": {},
   "source": [
    "Durante el curso necesitaremos los siguientes módulos de Python _[Tweepy](http://docs.tweepy.org/en/v3.5.0/), [BotOrNot](https://pypi.python.org/pypi/botornot/0.3), [NertworkX](https://networkx.github.io/) y [Seaborn](https://seaborn.pydata.org/)_ desarrollados por terceros, instalaremos de manera manual los módulos Tweepy y BotOrNor, pues los módulos NertworkX y Seaborn ya vienen preinstalados con Python-Anaconda, el cual ya instalamos anteriormente.   "
   ]
  },
  {
   "cell_type": "markdown",
   "metadata": {},
   "source": [
    "### 0.2.1 Instalar Tweepy"
   ]
  },
  {
   "cell_type": "markdown",
   "metadata": {},
   "source": [
    "El lenguaje de programación de Python tiene predefinidas diversos comandos que nos ayudan a manipular toda clase de datos. Sin embargo, las distribuciones estándar de Python no cuentan inicialmente con los comandos necesarios para trabajar con Twitter, para esto existe el módulo Tweepy, el cual contiene todas las herramientas necesarias para comunicarte con Twitter. Para utilizar dicho paquete, procedemos a instalarlo mediante los siguientes pasos: \n",
    " * Ir a la siguiente dirección [https://github.com/tweepy/tweepy](https://github.com/tweepy/tweepy).\n",
    " * Dar click en _Clone or download_ (Botón verde) e inmediatamente dar click en _Download zip_.\n",
    " * Descomprimir la carpeta .\n",
    " * Abrimos la carpeta que acabamos de descomprimir.\n",
    " * Abrimos la ventana de comandos o terminal.\n",
    "     * Windows\n",
    "         * Presionamos _shift_ + _click derecho_.\n",
    "         * Seleccionamos _Abrir ventana de comandos aquí_.\n",
    "     * Ubuntu y Mac OS X\n",
    "         * Abrimos la aplicación _Terminal_ .\n",
    "         * Con la instrucción `cd` nos movemos al directorio donde se descomprimió la carpeta. \n",
    "\n",
    "Por ejemplo si descomprimimos en el Escritorio, el comando sería `cd /home/TuUsuario/Desktop/tweepy-master/`.\n",
    " * Por último, ya habilitados los permisos de instalación, escribimos:\n",
    "     * `python setup.py install` (Windows)\n",
    "     * `sudo python setup.py install` (Linux)\n",
    "     * `../../anaconda/bin/python3.6 setup.py install` (Mac OS)\n",
    "     \n",
    "Con todo lo anterior ya tenemos instalado en paquete Tweepy (versión más reciente) en nuestra computadora. Hay otra manera de instalar el paquete Tweepy (pero cabe la posibilidad de que no se instale la versión más reciente), para esto: \n",
    " * Abrimos \n",
    "     * Ventanda de comandos (Windows)  \n",
    "     * Terminal (Linux o Mac OS)\n",
    " * Escribimos \n",
    "     * `!pip install tweepy`\n",
    "     \n",
    "**Nota**:Los pasos realizados anteriormente sólo se cumplen para _Ubuntu_, en caso de contar con una distribucion de Linux distinta, deberá hacerdo acorde a su distribucion de Linux."
   ]
  },
  {
   "cell_type": "markdown",
   "metadata": {},
   "source": [
    "### 0.2.2 Instalar Botometer"
   ]
  },
  {
   "cell_type": "markdown",
   "metadata": {},
   "source": [
    "El módulo `Botometer` es utilizado para poder determinar cuando una cuenta de Twitter puede ser humano o bot, éste fue desarrollado por la Universidad de Indiana y es la versión actual del módulo `BotOrNot`.  \n",
    "\n",
    "Para instalarlo realizamos los siguientes pasos:\n",
    " * Ir a la siguiente dirección [https://github.com/IUNetSci/botometer-python](https://github.com/IUNetSci/botometer-python).\n",
    " * Dar click en _Clone or download_ (Botón verde) e inmediatamente dar click en _Download zip_.\n",
    " * Descomprimir la carpeta .\n",
    " * Abrimos la carpeta que acabamos de descomprimir.\n",
    " * Abrimos la ventana de comandos o terminal.\n",
    "     * Windows\n",
    "         * Presionamos _shift_ + _click derecho_.\n",
    "         * Seleccionamos _Abrir ventana de comandos aquí_.\n",
    "     * Ubuntu y Mac OS X\n",
    "         * Abrimos la aplicación _Terminal_ .\n",
    "         * Con la instrucción `cd` nos movemos al directorio donde se descomprimió la carpeta. \n",
    "\n",
    "Por ejemplo si descomprimimos en el Escritorio, el comando sería `cd /home/TuUsuario/Desktop/botometer-python-master/`.\n",
    " * Por último, ya habilitados los permisos de instalación, escribimos:\n",
    "     * `python setup.py install` (Windows)\n",
    "     * `sudo python setup.py install` (Linux)\n",
    "     * `../../anaconda/bin/python3.6 setup.py install` (Mac OS)\n"
   ]
  },
  {
   "cell_type": "markdown",
   "metadata": {},
   "source": [
    "### 0.2.3 Instalar  BotOrNot (Opcional)."
   ]
  },
  {
   "cell_type": "markdown",
   "metadata": {},
   "source": [
    "Pese a que el módulo `BotOrNot` es la versión anterior de `Botometer`, éste aún puede ser utilizado para poder determinar cuando una cuenta de Twitter puede ser humano o bot.\n",
    "\n",
    "Para instalarlo realizamos los mismos pasos realizados para instalar `Botometer`: \n",
    "* Ir a la siguiente dirección [https://pypi.python.org/pypi/botornot/0.3](https://pypi.python.org/pypi/botornot/0.3).\n",
    "     * Descargar la carpeta zip que se encuentra en **Download URL**.\n",
    " * Descomprimir la carpeta.\n",
    " * Abrimos la ventana de comandos o terminal.\n",
    "     * Windows.\n",
    "         * Presionamos _shift_ + _click derecho_.\n",
    "         * Seleccionamos _Abrir ventana de comandos aquí_.\n",
    "     * Ubuntu y Mac OS.\n",
    "         * Abrimos la aplicación _Terminal_ .\n",
    "         * Con la instrucción `cd` nos movemos al directorio donde se descomprimió la carpeta. \n",
    "\n",
    "Por ejemplo si descomprimimos en el Escritorio, el comando sería `cd /home/TuUsuario/Desktop/botornot-python-master/`.\n",
    " * Por último, ya habilitados los permisos de instalación, escribimos:\n",
    "     * `python setup.py install` (Windows)\n",
    "     * `sudo python setup.py install` (Linux)\n",
    "     * `../../anaconda/bin/python3.6 setup.py install`  (OS X)"
   ]
  },
  {
   "cell_type": "markdown",
   "metadata": {},
   "source": [
    "### 0.2.4 Instalar Unidecode."
   ]
  },
  {
   "cell_type": "markdown",
   "metadata": {},
   "source": [
    "Este módulo es necesario para poder traducir exitosamente todos los caracteres utilizados en el idioma español (como por ejemplo la letra ñ, vocales acentuadas, etc) a código de caracteres _ASCII_ y facilitar el análisis de texto.\n",
    "\n",
    "Para instalarlo realizamos los siguientes pasos: \n",
    "* Ir a la siguiente dirección [https://github.com/iki/unidecode](https://github.com/iki/unidecode).\n",
    " * Dar click en _Clone or download_ (Botón verde) e inmediatamente dar click en _Download zip_.\n",
    " * Descomprimir la carpeta .\n",
    " * Abrimos la carpeta que acabamos de descomprimir.\n",
    " * Abrimos la ventana de comandos o terminal.\n",
    "     * Windows\n",
    "         * Presionamos _shift_ + _click derecho_.\n",
    "         * Seleccionamos _Abrir ventana de comandos aquí_.\n",
    "     * Ubuntu y Mac OS X\n",
    "         * Abrimos la aplicación _Terminal_ .\n",
    "         * Con la instrucción `cd` nos movemos al directorio donde se descomprimió la carpeta. \n",
    "\n",
    "Por ejemplo si descomprimimos en el Escritorio, el comando sería `cd /home/TuUsuario/Desktop/unidecode-master/`.\n",
    " * Por último, ya habilitados los permisos de instalación, escribimos:\n",
    "     * `python setup.py install` (Windows)\n",
    "     * `sudo python setup.py install` (Linux)\n",
    "     * `../../anaconda/bin/python3.6 setup.py install` (Mac OS)\n"
   ]
  },
  {
   "cell_type": "markdown",
   "metadata": {},
   "source": [
    "### 0.3 Descarga un editor de textos (Opcional)."
   ]
  },
  {
   "cell_type": "markdown",
   "metadata": {},
   "source": [
    "#### **Instalar [Sublime Text](https://www.sublimetext.com/)**"
   ]
  },
  {
   "cell_type": "markdown",
   "metadata": {},
   "source": [
    "Es muy sencillo, sólo hay que realizar los siguientes pasos:\n",
    " * Ir a la siguiente [página](https://www.sublimetext.com/3) y descargar de acuerdo al sistema operativo que usted utiliza. \n",
    " * Instalar el archivo descargado. "
   ]
  },
  {
   "cell_type": "markdown",
   "metadata": {},
   "source": [
    "### 0.4 Correr el Notebook."
   ]
  },
  {
   "cell_type": "markdown",
   "metadata": {},
   "source": [
    "Una vez que esté instalado Python 3, hacemos lo siguiente:\n",
    " * Usuarios Windows\n",
    "     * Escribir en el buscador de aplicaciones `'jupyter notebook'`.\n",
    " * Usuarios Linux\n",
    "     * Abrir una terminal y escribir ´'ipython notebook'`. \n",
    " * Usuarios OS \n",
    "     * Abrir una terminal y escribir `'jupyter notebook'` o `'./anaconda/bin/jupyter-notebook'`.\n",
    "\n",
    "Esto va a correr jupyter notebook en tu navegador.  Busca la carperta del curso y da clic en notebook correspondiente, abre y navega en el material."
   ]
  }
 ],
 "metadata": {
  "kernelspec": {
   "display_name": "Python 3",
   "language": "python",
   "name": "python3"
  },
  "language_info": {
   "codemirror_mode": {
    "name": "ipython",
    "version": 3
   },
   "file_extension": ".py",
   "mimetype": "text/x-python",
   "name": "python",
   "nbconvert_exporter": "python",
   "pygments_lexer": "ipython3",
   "version": "3.6.0"
  }
 },
 "nbformat": 4,
 "nbformat_minor": 0
}

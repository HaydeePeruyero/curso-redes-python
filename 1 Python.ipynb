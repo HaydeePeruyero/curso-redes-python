{
 "cells": [
  {
   "cell_type": "markdown",
   "metadata": {},
   "source": [
    "## 1.  Introducción a Python"
   ]
  },
  {
   "cell_type": "markdown",
   "metadata": {},
   "source": [
    "Python es un lenguaje de programación que nos permite dictar instrucciones a una computadora. Este lenguaje se ha vuelto muy popular en los últimos años debido a su facilidad de sintaxis. Por ejemplo, la instrucción `print( )` te permite solicitar información a la máquina:"
   ]
  },
  {
   "cell_type": "code",
   "execution_count": null,
   "metadata": {
    "collapsed": false
   },
   "outputs": [],
   "source": [
    "print(1+1)"
   ]
  },
  {
   "cell_type": "markdown",
   "metadata": {},
   "source": [
    "O simplemente repetir un mensaje:"
   ]
  },
  {
   "cell_type": "code",
   "execution_count": null,
   "metadata": {
    "collapsed": false
   },
   "outputs": [],
   "source": [
    "print(\"Hola Mundo\")"
   ]
  },
  {
   "cell_type": "markdown",
   "metadata": {},
   "source": [
    "La mejor forma de aprender a programar es haciéndolo. Da click en cualquier bloque de código de este curso, como el anterior, y preciona `ctrl + Enter` para correrlo. Vamos a comenzar escribiendo nuestro primer código, para esto debemos tener presente que las instrucciones se organizan en bloques y se ejecutan de acuerdo al orden con el que fueron escritas. Revisa el siguiente código, córrelo y trata de entender qué es lo que sucede."
   ]
  },
  {
   "cell_type": "code",
   "execution_count": null,
   "metadata": {
    "collapsed": false
   },
   "outputs": [],
   "source": [
    "print('Twitter con')\n",
    "print('Python')"
   ]
  },
  {
   "cell_type": "markdown",
   "metadata": {},
   "source": [
    "Otra manera de escribir esto, es almacenar esta información en _variables_."
   ]
  },
  {
   "cell_type": "code",
   "execution_count": null,
   "metadata": {
    "collapsed": false
   },
   "outputs": [],
   "source": [
    "palabra1 = \"Twitter\"\n",
    "palabra2 = \"con\"\n",
    "palabra3 = \"Python\"\n",
    "print(palabra1,palabra2,palabra3)"
   ]
  },
  {
   "cell_type": "markdown",
   "metadata": {},
   "source": [
    "Existen variables numéricas (`integers`, `floats`, `booleans`) y variables de texto (`strings`). Cada tipo de variable tiene sus propias operaciones, por ejemplo, con el signo \"`+`\" se puede sumar variables de tipo numérico como en el primer ejemplo, o concatenar cadenas de texto:"
   ]
  },
  {
   "cell_type": "code",
   "execution_count": null,
   "metadata": {
    "collapsed": false
   },
   "outputs": [],
   "source": [
    "palabra1 = \"Twitter\"\n",
    "palabra2 = \"con\"\n",
    "palabra3 = \"Python\"\n",
    "palabra4 = palabra1 + \" \" + palabra2 + \" \" + palabra3\n",
    "print(palabra4)"
   ]
  },
  {
   "cell_type": "markdown",
   "metadata": {},
   "source": [
    "Podemos pensar a las variables como un contenedor, en el cual almacenamos cualquier tipo de información. En el ejemplo anterior, almacenamos la cadena de texto `\"Twitter\"` en la variable `palabra1`. Aunque lucen similares, existe una diferencia importante entre cadenas de texto como `\"Twitter\"` y variables como `palabra1`. Como puedes observar, las cadenas de texto se escriben entre comillas, mientras que las variables no. Sin las comillas, Python considera ese texto como variables. Para hacer más clara esta diferencia, vamos a correr el siguiente código:"
   ]
  },
  {
   "cell_type": "code",
   "execution_count": null,
   "metadata": {
    "collapsed": false
   },
   "outputs": [],
   "source": [
    "Twitter = \"Python\"\n",
    "Python = \"Twitter\"\n",
    "print(Twitter + \" \" + palabra2 + \" \" + Python)"
   ]
  },
  {
   "cell_type": "markdown",
   "metadata": {},
   "source": [
    "Los nombres de las variables los podemos escoger arbitrariamente. Sin embargo, es recomendable ponerle un nombre significativo para que nos sea más fácil recordar lo que almacenamos en cada variable."
   ]
  },
  {
   "cell_type": "markdown",
   "metadata": {},
   "source": [
    "En general, llamamos 'valor' al contenido de una variable. Si lees un libro de programación, las personas por lo general hablan de almacenar (o asignar) valores a las variables. Observa el siguiente bloque de código."
   ]
  },
  {
   "cell_type": "code",
   "execution_count": null,
   "metadata": {
    "collapsed": false
   },
   "outputs": [],
   "source": [
    "numero = 1\n",
    "NUMERO = 100000000\n",
    "print(numero == NUMERO)"
   ]
  },
  {
   "cell_type": "markdown",
   "metadata": {},
   "source": [
    "Notemos que Python distingue mayúsculas de minúsculas, es decir, NUMERO  ≠≠  numero."
   ]
  },
  {
   "cell_type": "markdown",
   "metadata": {},
   "source": [
    "**Ejercicio:** Prueba añadiendo al final del código una línea que imprima la suma de `numero`  y `NUMERO`. Después, asigna el resultado de esta suma a una nueva variable. Hazlo en la siguiente celda."
   ]
  },
  {
   "cell_type": "code",
   "execution_count": null,
   "metadata": {
    "collapsed": true
   },
   "outputs": [],
   "source": [
    "#Elimina esto e inserta tu código aquí."
   ]
  },
  {
   "cell_type": "markdown",
   "metadata": {},
   "source": [
    "Python permite agrupar variables de diferentes tipos en un solo objeto, a estos objetos se les llama _listas_, y se escriben entre paréntesis cuadrados [ ]."
   ]
  },
  {
   "cell_type": "code",
   "execution_count": null,
   "metadata": {
    "collapsed": false
   },
   "outputs": [],
   "source": [
    "lista=['a','b','ab',1,2,1.0]\n",
    "print(lista)"
   ]
  },
  {
   "cell_type": "markdown",
   "metadata": {},
   "source": [
    "Es común crear listas vacías para posteriormente agregar elementos a ella. Para crear una lista vacía simplemente no escribimos elementos:"
   ]
  },
  {
   "cell_type": "code",
   "execution_count": null,
   "metadata": {
    "collapsed": false
   },
   "outputs": [],
   "source": [
    "lista2=[]\n",
    "print(lista2)"
   ]
  },
  {
   "cell_type": "markdown",
   "metadata": {},
   "source": [
    "Agregamos elementos a una lista con la instrucción ``append``:"
   ]
  },
  {
   "cell_type": "code",
   "execution_count": null,
   "metadata": {
    "collapsed": false
   },
   "outputs": [],
   "source": [
    "lista2=[]\n",
    "elemento='a'\n",
    "lista2.append(elemento)\n",
    "print(lista2)"
   ]
  },
  {
   "cell_type": "markdown",
   "metadata": {},
   "source": [
    "Estos conceptos básicos de variables y valores son el corazón de la mayoría de los códigos de computadora. Las variables también permiten almacenar información para reusar y manipular después, primero necesitamos conocer las instrucciones que administran este flujo de información, éstas son conocidas como _estructuras de control_. "
   ]
  },
  {
   "cell_type": "markdown",
   "metadata": {},
   "source": [
    "### 1.1 Estructuras de Control"
   ]
  },
  {
   "cell_type": "markdown",
   "metadata": {},
   "source": [
    "#### 1.1.1 Condicional (`if / elif / else`)"
   ]
  },
  {
   "cell_type": "markdown",
   "metadata": {},
   "source": [
    "Podemos condicionar la ejecución de ciertas instrucciones dejando una espacio al comienzo de la línea (_indentanción_)."
   ]
  },
  {
   "cell_type": "code",
   "execution_count": null,
   "metadata": {
    "collapsed": false
   },
   "outputs": [],
   "source": [
    "a=1111\n",
    "if a>10:\n",
    "    print('Twitter con python')"
   ]
  },
  {
   "cell_type": "markdown",
   "metadata": {},
   "source": [
    "Cuando necesitamos comprobar más de una condicion utilizamos `elif` tantas veces como sea necesario. También, mediante un `else` podemos destinar la ejecucicon de instrucciones si no se satisface ninguna condicion impuesta\n",
    "\n",
    "**Ejercicio**: Completa el siguiente código."
   ]
  },
  {
   "cell_type": "code",
   "execution_count": null,
   "metadata": {
    "collapsed": true
   },
   "outputs": [],
   "source": [
    "a=  #Escribe un valor numerico para a\n",
    "if a<3:\n",
    "    print('menor a tres')\n",
    "elif a>3:\n",
    "    print('mayor a tres')\n",
    "else:\n",
    "    print('no es numero')"
   ]
  },
  {
   "cell_type": "markdown",
   "metadata": {},
   "source": [
    "#### 1.1.2 Ciclo (`while`)"
   ]
  },
  {
   "cell_type": "markdown",
   "metadata": {},
   "source": [
    "Permite ejecutar un bloque de instrucciones _mientras_ se cumpla una condición. Las instrucciones que deseamos repetir deben estar identadas."
   ]
  },
  {
   "cell_type": "code",
   "execution_count": null,
   "metadata": {
    "collapsed": false
   },
   "outputs": [],
   "source": [
    "contador=1\n",
    "while contador<5:\n",
    "    print(contador)\n",
    "    contador=contador+1"
   ]
  },
  {
   "cell_type": "markdown",
   "metadata": {},
   "source": [
    "#### 1.1.3 Ciclo (`for`)"
   ]
  },
  {
   "cell_type": "markdown",
   "metadata": {},
   "source": [
    "Esta instrucción recorre los elementos en una lista, por cada uno de ellos, repite un bloque de instrucciones."
   ]
  },
  {
   "cell_type": "code",
   "execution_count": null,
   "metadata": {
    "collapsed": false
   },
   "outputs": [],
   "source": [
    "lista=['a','b','c']\n",
    "for elemento in lista:\n",
    "    print(elemento)"
   ]
  },
  {
   "cell_type": "markdown",
   "metadata": {},
   "source": [
    "#### 1.1.4 `try / except`"
   ]
  },
  {
   "cell_type": "markdown",
   "metadata": {},
   "source": [
    "Es probable que durante la ejecución de nuestro código, ocurran errores. Podemos condicionar que, si ocurre un error, se ejecuten otras instrucciones. Este par de estructuras tiene cierto parecido a la pareja condicional if / else. "
   ]
  },
  {
   "cell_type": "code",
   "execution_count": null,
   "metadata": {
    "collapsed": true
   },
   "outputs": [],
   "source": [
    "variable1='A'\n",
    "print(variable1<3)"
   ]
  },
  {
   "cell_type": "code",
   "execution_count": null,
   "metadata": {
    "collapsed": true
   },
   "outputs": [],
   "source": [
    "variable1='A'\n",
    "try:\n",
    "    print(variable1<3)\n",
    "except:\n",
    "    print('no es un numero')"
   ]
  }
 ],
 "metadata": {
  "kernelspec": {
   "display_name": "Python 3",
   "language": "python",
   "name": "python3"
  },
  "language_info": {
   "codemirror_mode": {
    "name": "ipython",
    "version": 3
   },
   "file_extension": ".py",
   "mimetype": "text/x-python",
   "name": "python",
   "nbconvert_exporter": "python",
   "pygments_lexer": "ipython3",
   "version": "3.6.0"
  }
 },
 "nbformat": 4,
 "nbformat_minor": 0
}

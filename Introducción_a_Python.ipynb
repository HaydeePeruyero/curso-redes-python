{
  "nbformat": 4,
  "nbformat_minor": 0,
  "metadata": {
    "colab": {
      "name": "Introducción a Python.ipynb",
      "version": "0.3.2",
      "provenance": [],
      "collapsed_sections": [],
      "include_colab_link": true
    },
    "kernelspec": {
      "name": "python3",
      "display_name": "Python 3"
    }
  },
  "cells": [
    {
      "cell_type": "markdown",
      "metadata": {
        "id": "view-in-github",
        "colab_type": "text"
      },
      "source": [
        "<a href=\"https://colab.research.google.com/github/HaydeePeruyero/curso-redes-python/blob/master/Introducci%C3%B3n_a_Python.ipynb\" target=\"_parent\"><img src=\"https://colab.research.google.com/assets/colab-badge.svg\" alt=\"Open In Colab\"/></a>"
      ]
    },
    {
      "cell_type": "markdown",
      "metadata": {
        "id": "5er4cA_jxhdT",
        "colab_type": "text"
      },
      "source": [
        "# Introducción a Python\n",
        "\n",
        "\n",
        "La estructura y algunas ideas de este material se tomaron de los siguientes tutoriales:\n",
        "\n",
        "\n",
        "\n",
        "*   https://docs.python.org/3/tutorial/appetite.html\n",
        "* https://tutorial.djangogirls.org/es/python_introduction/\n",
        "* https://github.com/psuarezserrato/curso-redes-python/blob/master/1%20Introduccion%20a%20Python.ipynb\n",
        "\n",
        "___________________________________________________\n",
        "\n",
        "\n",
        "Python es un lenguage de programación poderoso y fácil de aprender. Tiene un alto nivel de estructura de datos y una forma simple pero efectiva de aproximarse a la programación orientada a objetos. La sintaxis legante y dinámica de python, junto con su interprete natural, lo hacen el lenguaje ideal para desarrollar aplicaciones rápidas en diversas áreas en la mayoría de plataformas.\n",
        "\n",
        "El interprete de Python y todas sus librerias estándar se pueden encontrar gratuitamente para la mayoría de plataformas en el sitio Web de [Python](https://www.python.org/). También pueden encontrar en este sitio documentación adicional, programas y herramientas.\n",
        "\n",
        "### Instalar Python3\n",
        "\n",
        "Podemos encontrar a Python en dos versiones: Python2 y Python3. Actualmente se encuentra incorporado nativamente en Linux y Mac Os, sin embargo podemos optar por instalar otra distribución como Anaconda. En este curso utilizaremos Python en su versión 3, desde los notebooks de [Google Colab](https://colab.research.google.com/notebooks/welcome.ipynb), trabajar con la distribución nativa o con otra que instalemos no implica diferencia alguna para este curso. Si no sabemos cómo comprobar la versión por default en nuestro sistema o estamos utilizando Windows, podemos directamente descargar e instalar la distribución de Anaconda mediante el siguiente enlace:\n",
        "\n",
        "[Descarga Anaconda](https://www.anaconda.com/distribution/#download-section)\n",
        "\n",
        "## 1. Usando Python como Calculadora\n",
        "\n",
        "Python es un lenguaje de programación que nos permite dictar instrucciones a una computadora. Este lenguaje se ha vuelto muy popular en los últimos años debido a su facilidad de sintaxis.\n",
        "\n",
        "La mejor forma de aprender a programar es haciéndolo. Da click en cualquier bloque de código de este curso y preciona ctrl + Enter para correrlo. Debemos tener presente que las instrucciones se organizan en bloques y se ejecutan de acuerdo al orden con el que fueron escritas. \n",
        "\n",
        "\n",
        "### 1.1 Números\n",
        "\n",
        "El interprete de Python actúa como una calculadora simple: puedes escribir una expresión en él y él te regresará el valor. La sintaxis para las expresiones es sencilla: los operadores `+`, `-`,`*` y `/` funcionan como en la mayoría de otros lenguajes; también podemos usar paréntesis `(())` para agrupar. Por ejemplo:\n",
        "\n",
        "\n"
      ]
    },
    {
      "cell_type": "code",
      "metadata": {
        "id": "T2yXZU7jBklI",
        "colab_type": "code",
        "colab": {}
      },
      "source": [
        "2+2"
      ],
      "execution_count": 0,
      "outputs": []
    },
    {
      "cell_type": "code",
      "metadata": {
        "id": "Pg2PB1IFBpa6",
        "colab_type": "code",
        "colab": {}
      },
      "source": [
        "50-5*6"
      ],
      "execution_count": 0,
      "outputs": []
    },
    {
      "cell_type": "code",
      "metadata": {
        "id": "pcG5D5i2BtDj",
        "colab_type": "code",
        "colab": {}
      },
      "source": [
        "(50-5*6)/4"
      ],
      "execution_count": 0,
      "outputs": []
    },
    {
      "cell_type": "code",
      "metadata": {
        "id": "nEe3X8EbBwYW",
        "colab_type": "code",
        "colab": {}
      },
      "source": [
        "8/5 # la division siempre regresa un numero flotante"
      ],
      "execution_count": 0,
      "outputs": []
    },
    {
      "cell_type": "markdown",
      "metadata": {
        "id": "1AqFfgosB5T-",
        "colab_type": "text"
      },
      "source": [
        "Los números enteros (ej. 2,4,20) son de tipo `int`, los que tienen una parte racional (ej. 5.0, 1.6) son de tipo `float`. \n",
        "\n",
        "La división (`/`) siempre regresa un valor flotante. Para obtener un valor entero en la división y olvidarnos de la parte racional, podemos usar el operador `//`; para calcular el residuo podemos usar el operador `%`:"
      ]
    },
    {
      "cell_type": "code",
      "metadata": {
        "id": "iRh7VYPRC-k-",
        "colab_type": "code",
        "colab": {}
      },
      "source": [
        "17/3 #la divison clasica regresa un valor flotante"
      ],
      "execution_count": 0,
      "outputs": []
    },
    {
      "cell_type": "code",
      "metadata": {
        "id": "E9aqg0NPDEef",
        "colab_type": "code",
        "colab": {}
      },
      "source": [
        "17//3 #para quedarnos solo con la parte entera"
      ],
      "execution_count": 0,
      "outputs": []
    },
    {
      "cell_type": "code",
      "metadata": {
        "id": "FamAUgGaDL0t",
        "colab_type": "code",
        "colab": {}
      },
      "source": [
        "17%3 # el operador % nos regresa el residuo de la division"
      ],
      "execution_count": 0,
      "outputs": []
    },
    {
      "cell_type": "code",
      "metadata": {
        "id": "VJyfd-GCDUTf",
        "colab_type": "code",
        "colab": {}
      },
      "source": [
        "5 * 3 + 2 # resuktado * divisor + residuo "
      ],
      "execution_count": 0,
      "outputs": []
    },
    {
      "cell_type": "markdown",
      "metadata": {
        "id": "f-7oJI2dDd52",
        "colab_type": "text"
      },
      "source": [
        "Con Python podemos usar el operador `**` para calcular potencias:"
      ]
    },
    {
      "cell_type": "code",
      "metadata": {
        "id": "0O5ydVafDk_Y",
        "colab_type": "code",
        "colab": {}
      },
      "source": [
        "5**2 # 5 al cuadrado"
      ],
      "execution_count": 0,
      "outputs": []
    },
    {
      "cell_type": "code",
      "metadata": {
        "id": "z2kLMHn2DpgX",
        "colab_type": "code",
        "colab": {}
      },
      "source": [
        "2**7"
      ],
      "execution_count": 0,
      "outputs": []
    },
    {
      "cell_type": "markdown",
      "metadata": {
        "id": "9JdDoaoDDr89",
        "colab_type": "text"
      },
      "source": [
        "El signo `=` se usa para asignar un valor a una variable. "
      ]
    },
    {
      "cell_type": "code",
      "metadata": {
        "id": "N6VlwIhUD06-",
        "colab_type": "code",
        "colab": {}
      },
      "source": [
        "Ancho = 20 \n",
        "Alto = 5*9\n",
        "Ancho * Alto"
      ],
      "execution_count": 0,
      "outputs": []
    },
    {
      "cell_type": "markdown",
      "metadata": {
        "id": "-0Sm3mrZD_2x",
        "colab_type": "text"
      },
      "source": [
        "Si una variable no está definido (no tiene un valor asignado), al tratar de usarla nos dará un error:"
      ]
    },
    {
      "cell_type": "code",
      "metadata": {
        "id": "hD_zLzqaEH2X",
        "colab_type": "code",
        "colab": {}
      },
      "source": [
        "n # tratar de usar una variable indefinida"
      ],
      "execution_count": 0,
      "outputs": []
    },
    {
      "cell_type": "markdown",
      "metadata": {
        "id": "oc5vDoV7ENKJ",
        "colab_type": "text"
      },
      "source": [
        "Si tratamos de operar diferentes tipos de variables, el operador convertirá todos a punto flotante:"
      ]
    },
    {
      "cell_type": "code",
      "metadata": {
        "id": "QMT3E_aVEhWh",
        "colab_type": "code",
        "colab": {}
      },
      "source": [
        "4 * 3.75 - 1"
      ],
      "execution_count": 0,
      "outputs": []
    },
    {
      "cell_type": "markdown",
      "metadata": {
        "id": "H4FLzC0AElDy",
        "colab_type": "text"
      },
      "source": [
        "La última expresión que se imprime es la que se asigna a la variable `_`. Esto significa que cuando estamos usando Python como una calculadora de escritorio, es en cierto modo fácil de continuar las operaciones, por ejemplo:"
      ]
    },
    {
      "cell_type": "code",
      "metadata": {
        "id": "cFCG7uAdFCK6",
        "colab_type": "code",
        "colab": {}
      },
      "source": [
        "impuesto = 12.5 /100\n",
        "precio = 100.50 \n",
        "precio * impuesto\n"
      ],
      "execution_count": 0,
      "outputs": []
    },
    {
      "cell_type": "code",
      "metadata": {
        "id": "-zyfZg3BFU5o",
        "colab_type": "code",
        "colab": {}
      },
      "source": [
        "precio + _"
      ],
      "execution_count": 0,
      "outputs": []
    },
    {
      "cell_type": "code",
      "metadata": {
        "id": "CqDEwkcDFXO1",
        "colab_type": "code",
        "colab": {}
      },
      "source": [
        "round (_,2)"
      ],
      "execution_count": 0,
      "outputs": []
    },
    {
      "cell_type": "markdown",
      "metadata": {
        "id": "2gvior_GFavW",
        "colab_type": "text"
      },
      "source": [
        "Esta variable debe tratarse como una variable de solo lectura por el usuario. No se le asigna un valor explícito a ella. \n",
        "\n",
        "Además de `int` y `float`, Python soporta otro tipo de números, como `Decimal` y `Fraction`. Python también tiene soporte para **números complejos**, y usa el sufijo `j` o `J` para indicar la parte imaginaria (ej. `3+5j`)."
      ]
    },
    {
      "cell_type": "markdown",
      "metadata": {
        "id": "BCWQ235sGYVw",
        "colab_type": "text"
      },
      "source": [
        "### 1.2 Cadenas\n",
        "\n",
        "Además de variables numéricas `(int, float)`, Python también te permite manipular cadenas de caracteres o variables de tipo `stings`, los cuales se pueden expresar de varias formas. Puedes encerrarlos en comillas sencillas `('...')` o comillas dobles `(\"...\")` con el mismo resultado. \n",
        "\n",
        "La instrucción `print( )` te permite desplegar información de la máquina:"
      ]
    },
    {
      "cell_type": "code",
      "metadata": {
        "id": "6w5EtFkrGvjA",
        "colab_type": "code",
        "colab": {}
      },
      "source": [
        "print(1+1)"
      ],
      "execution_count": 0,
      "outputs": []
    },
    {
      "cell_type": "markdown",
      "metadata": {
        "id": "atpbSD23GzrP",
        "colab_type": "text"
      },
      "source": [
        "O simplemente repetir un mensaje:"
      ]
    },
    {
      "cell_type": "code",
      "metadata": {
        "id": "4BLLMxT4G2Gt",
        "colab_type": "code",
        "colab": {}
      },
      "source": [
        "print(\"Hola Mundo\")"
      ],
      "execution_count": 0,
      "outputs": []
    },
    {
      "cell_type": "markdown",
      "metadata": {
        "id": "wuY4qxxpIo39",
        "colab_type": "text"
      },
      "source": [
        "Revisa el siguiente código, córrelo y trata de entender qué es lo que sucede."
      ]
    },
    {
      "cell_type": "code",
      "metadata": {
        "id": "MfbxLO6vJdyj",
        "colab_type": "code",
        "colab": {}
      },
      "source": [
        "print('Geometria con')\n",
        "print('Python')"
      ],
      "execution_count": 0,
      "outputs": []
    },
    {
      "cell_type": "markdown",
      "metadata": {
        "id": "sq68JHoOJgni",
        "colab_type": "text"
      },
      "source": [
        "Otra manera de escribir esto, es almacenar esta información en variables."
      ]
    },
    {
      "cell_type": "code",
      "metadata": {
        "id": "PK2U7Ot0JjcQ",
        "colab_type": "code",
        "colab": {}
      },
      "source": [
        "palabra1 = \"Geometria\"\n",
        "palabra2 = \"con\"\n",
        "palabra3 = \"Python\"\n",
        "print(palabra1,palabra2,palabra3)"
      ],
      "execution_count": 0,
      "outputs": []
    },
    {
      "cell_type": "markdown",
      "metadata": {
        "id": "u8eKKqkOKDj_",
        "colab_type": "text"
      },
      "source": [
        "Con el signo `+` podemos concatenar cadenas de texto:"
      ]
    },
    {
      "cell_type": "code",
      "metadata": {
        "id": "-GUCKVjGKMTQ",
        "colab_type": "code",
        "colab": {}
      },
      "source": [
        "palabra1 = \"Geometria\"\n",
        "palabra2 = \"con\"\n",
        "palabra3 = \"Python\"\n",
        "palabra4 = palabra1 + \" \" + palabra2 + \" \" + palabra3\n",
        "print(palabra4)"
      ],
      "execution_count": 0,
      "outputs": []
    },
    {
      "cell_type": "markdown",
      "metadata": {
        "id": "C-9NEkinKPMS",
        "colab_type": "text"
      },
      "source": [
        "Recapitulando, podemos pensar a las variables como un contenedor, en el cual almacenamos cualquier tipo de información. En el ejemplo anterior, almacenamos la cadena de texto \"Geometria\" en la variable palabra1. Aunque lucen similares, existe una diferencia importante entre cadenas de texto como \"Geometría\" y variables como `palabra1`. Como ya lo mencionamos, las cadenas de texto se escriben entre comillas, mientras que las variables no. Sin las comillas, Python considera ese texto como variables. Para hacer más clara esta diferencia, vamos a correr el siguiente código:"
      ]
    },
    {
      "cell_type": "code",
      "metadata": {
        "id": "ff7nx5TyK3RE",
        "colab_type": "code",
        "colab": {}
      },
      "source": [
        "Geometria = \"Python\"\n",
        "Python = \"Geometria\"\n",
        "print(Geometria + \" \" + palabra2 + \" \" + Python)"
      ],
      "execution_count": 0,
      "outputs": []
    },
    {
      "cell_type": "markdown",
      "metadata": {
        "id": "SP2JIKjaLTCy",
        "colab_type": "text"
      },
      "source": [
        "Los nombres de las variables los podemos escoger arbitrariamente. Sin embargo, es recomendable ponerle un nombre significativo para que nos sea más fácil recordar lo que almacenamos en cada variable.\n",
        "\n",
        "En general, llamamos 'valor' al contenido de una variable. Si lees un libro de programación, las personas por lo general hablan de almacenar (o asignar) valores a las variables. Observa el siguiente bloque de código."
      ]
    },
    {
      "cell_type": "code",
      "metadata": {
        "id": "CYVpmvdWLh1G",
        "colab_type": "code",
        "colab": {}
      },
      "source": [
        "numero = 1\n",
        "NUMERO = 100000000\n",
        "print(numero == NUMERO)"
      ],
      "execution_count": 0,
      "outputs": []
    },
    {
      "cell_type": "markdown",
      "metadata": {
        "id": "4rxJJvcGLk1U",
        "colab_type": "text"
      },
      "source": [
        "Notemos que Python distingue mayúsculas de minúsculas, es decir, NUMERO ≠≠ numero.\n",
        "\n",
        "__Ejercicio__: Prueba añadiendo al final del código una línea que imprima la suma de numero y NUMERO. Después, asigna el resultado de esta suma a una nueva variable. Hazlo en la siguiente celda."
      ]
    },
    {
      "cell_type": "code",
      "metadata": {
        "id": "ZM_Gpr5xLtLy",
        "colab_type": "code",
        "colab": {}
      },
      "source": [
        "\n",
        "#Elimina esto e inserta tu código aquí."
      ],
      "execution_count": 0,
      "outputs": []
    },
    {
      "cell_type": "markdown",
      "metadata": {
        "id": "bj6yhp9kLvKP",
        "colab_type": "text"
      },
      "source": [
        "Las cadenas de caracteres también se pueden indexar, donde el primer carácter se le asocia el índice `0`.  Un solo caracter es simplemente una cadena de tamaño uno:"
      ]
    },
    {
      "cell_type": "code",
      "metadata": {
        "id": "hzrdAPqQVQ4Y",
        "colab_type": "code",
        "colab": {}
      },
      "source": [
        "palabra = \"Python\"\n",
        "palabra[0]\n"
      ],
      "execution_count": 0,
      "outputs": []
    },
    {
      "cell_type": "code",
      "metadata": {
        "id": "XPFWEiidVhNc",
        "colab_type": "code",
        "colab": {}
      },
      "source": [
        "palabra[5]"
      ],
      "execution_count": 0,
      "outputs": []
    },
    {
      "cell_type": "markdown",
      "metadata": {
        "id": "4WUavRleVjVx",
        "colab_type": "text"
      },
      "source": [
        "Los índices también pueden ser números negativos, empezando a contar desde la derecha:"
      ]
    },
    {
      "cell_type": "code",
      "metadata": {
        "id": "ic_rKOqLVuZs",
        "colab_type": "code",
        "colab": {}
      },
      "source": [
        "palabra[-1]"
      ],
      "execution_count": 0,
      "outputs": []
    },
    {
      "cell_type": "code",
      "metadata": {
        "id": "1WvVugNCVyK6",
        "colab_type": "code",
        "colab": {}
      },
      "source": [
        "palabra[-2]"
      ],
      "execution_count": 0,
      "outputs": []
    },
    {
      "cell_type": "code",
      "metadata": {
        "id": "tdB3RWAmV1nr",
        "colab_type": "code",
        "colab": {}
      },
      "source": [
        "palabra[-6]"
      ],
      "execution_count": 0,
      "outputs": []
    },
    {
      "cell_type": "markdown",
      "metadata": {
        "id": "AxuuboBSV9hC",
        "colab_type": "text"
      },
      "source": [
        "También es posible acceder a un conjunto de caracteres de la cadena de texto:"
      ]
    },
    {
      "cell_type": "code",
      "metadata": {
        "id": "oAvRKZF8WHQP",
        "colab_type": "code",
        "colab": {}
      },
      "source": [
        "palabra[0:2]"
      ],
      "execution_count": 0,
      "outputs": []
    },
    {
      "cell_type": "code",
      "metadata": {
        "id": "7PTzxVPGWK2M",
        "colab_type": "code",
        "colab": {}
      },
      "source": [
        "palabra[2:5]"
      ],
      "execution_count": 0,
      "outputs": []
    },
    {
      "cell_type": "markdown",
      "metadata": {
        "id": "1_zftv3cWNKl",
        "colab_type": "text"
      },
      "source": [
        "Debemos notar que el primer índice esta incluido y el último no. Esto nos asegura que `s[ :i] + s[i: ] `  sea siempre igual a `s`:"
      ]
    },
    {
      "cell_type": "code",
      "metadata": {
        "id": "efY2HofuWqB5",
        "colab_type": "code",
        "colab": {}
      },
      "source": [
        "palabra[ :2] + palabra[2: ]"
      ],
      "execution_count": 0,
      "outputs": []
    },
    {
      "cell_type": "code",
      "metadata": {
        "id": "Q7Zn4SOMWv6g",
        "colab_type": "code",
        "colab": {}
      },
      "source": [
        "palabra[ :4] + palabra[4: ]"
      ],
      "execution_count": 0,
      "outputs": []
    },
    {
      "cell_type": "markdown",
      "metadata": {
        "id": "1kTjxtlvW0xS",
        "colab_type": "text"
      },
      "source": [
        "Omitir el primer índice por default nos da el índice `0` y omitir el último índice por default nos da el tamaño de la cadena de caracteres:"
      ]
    },
    {
      "cell_type": "code",
      "metadata": {
        "id": "KRxWNACbXI2q",
        "colab_type": "code",
        "colab": {}
      },
      "source": [
        "palabra[ : 2] #Caracteres desde el comienzo hasta la posicion 2, la cual es excluida"
      ],
      "execution_count": 0,
      "outputs": []
    },
    {
      "cell_type": "code",
      "metadata": {
        "id": "Nof6LbjzXUAC",
        "colab_type": "code",
        "colab": {}
      },
      "source": [
        "palabra[4 : ] # caracteres desde la posicion 4(incluida) hasta el final"
      ],
      "execution_count": 0,
      "outputs": []
    },
    {
      "cell_type": "code",
      "metadata": {
        "id": "bi7BHg_XXb-Z",
        "colab_type": "code",
        "colab": {}
      },
      "source": [
        "palabra[-2 : ] # caracteres desde la posicion -2(incluida) hasta el final"
      ],
      "execution_count": 0,
      "outputs": []
    },
    {
      "cell_type": "markdown",
      "metadata": {
        "id": "wl3Cr4XjXuWJ",
        "colab_type": "text"
      },
      "source": [
        "Usar índices demasiado largos nos dará un error"
      ]
    },
    {
      "cell_type": "code",
      "metadata": {
        "id": "thuGPKX0XxVc",
        "colab_type": "code",
        "colab": {}
      },
      "source": [
        "palabra[42]"
      ],
      "execution_count": 0,
      "outputs": []
    },
    {
      "cell_type": "markdown",
      "metadata": {
        "id": "6II851qYX0ii",
        "colab_type": "text"
      },
      "source": [
        "Sin embargo, índices fuera de rango se comportan de la forma usual:"
      ]
    },
    {
      "cell_type": "code",
      "metadata": {
        "id": "kUGTbec8X_OU",
        "colab_type": "code",
        "colab": {}
      },
      "source": [
        "palabra[4:42]"
      ],
      "execution_count": 0,
      "outputs": []
    },
    {
      "cell_type": "code",
      "metadata": {
        "id": "X8OulJsuYHUd",
        "colab_type": "code",
        "colab": {}
      },
      "source": [
        "palabra[42:]"
      ],
      "execution_count": 0,
      "outputs": []
    },
    {
      "cell_type": "markdown",
      "metadata": {
        "id": "rdUowp3bYKVG",
        "colab_type": "text"
      },
      "source": [
        "No podemos cambiar el tipo de cadenas de caracteres, son immutables. Por lo que si intentamos asignar un nuevo valor a una posición de una cadena, obtendremos un error:"
      ]
    },
    {
      "cell_type": "code",
      "metadata": {
        "id": "KQhrwcKTYj1W",
        "colab_type": "code",
        "colab": {}
      },
      "source": [
        "palabra[0] = \"J\""
      ],
      "execution_count": 0,
      "outputs": []
    },
    {
      "cell_type": "markdown",
      "metadata": {
        "id": "QJGw1u-dYpzk",
        "colab_type": "text"
      },
      "source": [
        "Si queremos una cadena de caracteres diferente, debemos crearla:"
      ]
    },
    {
      "cell_type": "code",
      "metadata": {
        "id": "U0SyR5rCYvP0",
        "colab_type": "code",
        "colab": {}
      },
      "source": [
        "\"J\" + palabra[1: ]"
      ],
      "execution_count": 0,
      "outputs": []
    },
    {
      "cell_type": "code",
      "metadata": {
        "id": "1F1XbrOOY5bh",
        "colab_type": "code",
        "colab": {}
      },
      "source": [
        "palabra[ : 2] + \"py\""
      ],
      "execution_count": 0,
      "outputs": []
    },
    {
      "cell_type": "markdown",
      "metadata": {
        "id": "Xh4SkFaTY_L1",
        "colab_type": "text"
      },
      "source": [
        "La función `len()` nos regresa el tamaño de la cadena:"
      ]
    },
    {
      "cell_type": "code",
      "metadata": {
        "id": "f_ycx28SZFIm",
        "colab_type": "code",
        "colab": {}
      },
      "source": [
        "s = \"Bienvenidos al curso de Geometria Analitica 1\"\n",
        "len(s)"
      ],
      "execution_count": 0,
      "outputs": []
    },
    {
      "cell_type": "markdown",
      "metadata": {
        "id": "BhXkK-qhZTKA",
        "colab_type": "text"
      },
      "source": [
        "### 1.3 Listas\n",
        "\n",
        "Python permite agrupar variables de diferentes tipos en un solo objeto, a estos objetos se les llama listas, y se escriben entre paréntesis cuadrados `[ ]`.\n"
      ]
    },
    {
      "cell_type": "code",
      "metadata": {
        "id": "y3amSiHoZiv9",
        "colab_type": "code",
        "colab": {}
      },
      "source": [
        "lista=['a','b','ab',1,2,1.0]\n",
        "print(lista)"
      ],
      "execution_count": 0,
      "outputs": []
    },
    {
      "cell_type": "markdown",
      "metadata": {
        "id": "aEo59bynZlNA",
        "colab_type": "text"
      },
      "source": [
        "Es común crear listas vacías para posteriormente agregar elementos a ella. Para crear una lista vacía simplemente no escribimos elementos:"
      ]
    },
    {
      "cell_type": "code",
      "metadata": {
        "id": "grf4lgR6Zp08",
        "colab_type": "code",
        "colab": {}
      },
      "source": [
        "lista2=[]\n",
        "print(lista2)"
      ],
      "execution_count": 0,
      "outputs": []
    },
    {
      "cell_type": "markdown",
      "metadata": {
        "id": "mss30r5JZshS",
        "colab_type": "text"
      },
      "source": [
        "Agregamos elementos a una lista con la instrucción `append`:"
      ]
    },
    {
      "cell_type": "code",
      "metadata": {
        "id": "Z_-jRe9sZwsd",
        "colab_type": "code",
        "colab": {}
      },
      "source": [
        "lista2=[]\n",
        "elemento='a'\n",
        "lista2.append(elemento)\n",
        "print(lista2)"
      ],
      "execution_count": 0,
      "outputs": []
    },
    {
      "cell_type": "markdown",
      "metadata": {
        "id": "gUZ4mv6xZ4rI",
        "colab_type": "text"
      },
      "source": [
        "Al igual que las cadenas de caracteres, las listas también tienen sus elementos indexados:"
      ]
    },
    {
      "cell_type": "code",
      "metadata": {
        "id": "NjYbbcVNaDmV",
        "colab_type": "code",
        "colab": {}
      },
      "source": [
        "cuadrados = [1,4,9,16,25]\n",
        "cuadrados[-1] "
      ],
      "execution_count": 0,
      "outputs": []
    },
    {
      "cell_type": "code",
      "metadata": {
        "id": "OpgCGXlnaOWc",
        "colab_type": "code",
        "colab": {}
      },
      "source": [
        "cuadrados[-3: ]"
      ],
      "execution_count": 0,
      "outputs": []
    },
    {
      "cell_type": "markdown",
      "metadata": {
        "id": "fW9yHI2AaSlo",
        "colab_type": "text"
      },
      "source": [
        "También podemos concatenar listas:"
      ]
    },
    {
      "cell_type": "code",
      "metadata": {
        "id": "HhWuNCynagsV",
        "colab_type": "code",
        "colab": {}
      },
      "source": [
        "cuadrados + [36,49,64,81,100]"
      ],
      "execution_count": 0,
      "outputs": []
    },
    {
      "cell_type": "markdown",
      "metadata": {
        "id": "2f1XqDDialiD",
        "colab_type": "text"
      },
      "source": [
        "Pero a diferencia de las cadenas de caracteres, las listas son de tipo `mutable`, i.e. es posible cambiar su contenido:"
      ]
    },
    {
      "cell_type": "code",
      "metadata": {
        "id": "tNzWOWIRaw11",
        "colab_type": "code",
        "colab": {}
      },
      "source": [
        "cubos = [1,8,27,65,125] # hay algo incorrecto"
      ],
      "execution_count": 0,
      "outputs": []
    },
    {
      "cell_type": "code",
      "metadata": {
        "id": "ShxxQLRka6UU",
        "colab_type": "code",
        "colab": {}
      },
      "source": [
        "4**3 # el cubo de 4 es 64, no 65"
      ],
      "execution_count": 0,
      "outputs": []
    },
    {
      "cell_type": "code",
      "metadata": {
        "id": "IqWJMdbfa_AP",
        "colab_type": "code",
        "colab": {}
      },
      "source": [
        "cubos[3] = 64 #reemplazamos el valor incorrecto en la lista"
      ],
      "execution_count": 0,
      "outputs": []
    },
    {
      "cell_type": "code",
      "metadata": {
        "id": "TCs9VSMkbGXP",
        "colab_type": "code",
        "colab": {}
      },
      "source": [
        "cubos"
      ],
      "execution_count": 0,
      "outputs": []
    },
    {
      "cell_type": "markdown",
      "metadata": {
        "id": "L7QTNgcFbRht",
        "colab_type": "text"
      },
      "source": [
        "__Ejercicio:__ Añade a la lista `cubos` dos elementos más:"
      ]
    },
    {
      "cell_type": "code",
      "metadata": {
        "id": "oQ8WinQ2bfcz",
        "colab_type": "code",
        "colab": {}
      },
      "source": [
        "#Escribe aqui tu resultado"
      ],
      "execution_count": 0,
      "outputs": []
    },
    {
      "cell_type": "markdown",
      "metadata": {
        "id": "a9_lQKcXbic5",
        "colab_type": "text"
      },
      "source": [
        "También podemos reasignar varios elementos de la lista al mismo tiempo:"
      ]
    },
    {
      "cell_type": "code",
      "metadata": {
        "id": "Mm5ZBv9-by9I",
        "colab_type": "code",
        "colab": {}
      },
      "source": [
        "letras = ['a', 'b', 'c', 'd', 'e', 'f', 'g']\n",
        "letras"
      ],
      "execution_count": 0,
      "outputs": []
    },
    {
      "cell_type": "code",
      "metadata": {
        "id": "0vugxQbrb9VX",
        "colab_type": "code",
        "colab": {}
      },
      "source": [
        "#reemplazar varios valores:\n",
        "letras[2:5] = ['C', 'D', 'E']\n",
        "letras"
      ],
      "execution_count": 0,
      "outputs": []
    },
    {
      "cell_type": "code",
      "metadata": {
        "id": "xOqwf0_zcJ9K",
        "colab_type": "code",
        "colab": {}
      },
      "source": [
        "#Ahora eliminaremos algunos valores\n",
        "letras[2:5] = [ ]\n",
        "letras"
      ],
      "execution_count": 0,
      "outputs": []
    },
    {
      "cell_type": "code",
      "metadata": {
        "id": "JR3riFXMcVI9",
        "colab_type": "code",
        "colab": {}
      },
      "source": [
        "#Y podemos eliminar todos los elementos de la lista y reemplazar la lista por una lista vacia\n",
        "letras[ : ] = [ ]\n",
        "letras"
      ],
      "execution_count": 0,
      "outputs": []
    },
    {
      "cell_type": "markdown",
      "metadata": {
        "id": "42yE_Tchcjq8",
        "colab_type": "text"
      },
      "source": [
        "La función `len()` también se puede usar en listas:"
      ]
    },
    {
      "cell_type": "code",
      "metadata": {
        "id": "7qNiZa78cpmD",
        "colab_type": "code",
        "colab": {}
      },
      "source": [
        "letras = ['a', 'b', 'c', 'd', 'e']\n",
        "len(letras)"
      ],
      "execution_count": 0,
      "outputs": []
    },
    {
      "cell_type": "markdown",
      "metadata": {
        "id": "JQvjGZF8cyy0",
        "colab_type": "text"
      },
      "source": [
        "También es posible anidar listas (crear listas que contienen listas):"
      ]
    },
    {
      "cell_type": "code",
      "metadata": {
        "id": "g0nfFOKmc4l3",
        "colab_type": "code",
        "colab": {}
      },
      "source": [
        "a = ['a', 'b', 'c']\n",
        "n = [1, 2, 3]\n",
        "x = [ a , n ]\n",
        "x"
      ],
      "execution_count": 0,
      "outputs": []
    },
    {
      "cell_type": "code",
      "metadata": {
        "id": "4bYM1RSpdGWD",
        "colab_type": "code",
        "colab": {}
      },
      "source": [
        "x[0]"
      ],
      "execution_count": 0,
      "outputs": []
    },
    {
      "cell_type": "code",
      "metadata": {
        "id": "eFQMrZJtdI7Z",
        "colab_type": "code",
        "colab": {}
      },
      "source": [
        "x[0][1]"
      ],
      "execution_count": 0,
      "outputs": []
    },
    {
      "cell_type": "markdown",
      "metadata": {
        "id": "DvjWG8a1kENj",
        "colab_type": "text"
      },
      "source": [
        "### 1.4 Comparar cosas\n",
        "\n",
        "Gran parte de la programación incluye comprar cosas. Lo más fácil de comparar son números. \n",
        "\n",
        "Python no solo puede comparar números, también \n",
        "puede comparar resultados de funciones.\n",
        "\n",
        "\n",
        "Los operadores estándar de comparasión son: `<` (menor que), `>` (mayor que), `==`  (igual a), `<=` (menor que o igual a ), `>=` (mayor que o igual a ) y `!=` (no igual a ).\n",
        "\n",
        "Siempre es necesario poner dos `==` si deseamos comprobar que dos cosas son iguales. Recuerda que usamos un solo `=` para asignar valores a variables.\n",
        "\n",
        "Veamos algunos ejemplos:"
      ]
    },
    {
      "cell_type": "code",
      "metadata": {
        "id": "wnIyCrG-k8WV",
        "colab_type": "code",
        "colab": {}
      },
      "source": [
        "5 > 2"
      ],
      "execution_count": 0,
      "outputs": []
    },
    {
      "cell_type": "code",
      "metadata": {
        "id": "6Pjd9y6olNbe",
        "colab_type": "code",
        "colab": {}
      },
      "source": [
        "3 < 1"
      ],
      "execution_count": 0,
      "outputs": []
    },
    {
      "cell_type": "code",
      "metadata": {
        "id": "ttXVJE6klQhu",
        "colab_type": "code",
        "colab": {}
      },
      "source": [
        "5 > 2*2"
      ],
      "execution_count": 0,
      "outputs": []
    },
    {
      "cell_type": "code",
      "metadata": {
        "id": "fHjFksqdlTGM",
        "colab_type": "code",
        "colab": {}
      },
      "source": [
        "1 == 1"
      ],
      "execution_count": 0,
      "outputs": []
    },
    {
      "cell_type": "code",
      "metadata": {
        "id": "3V4U1t4PlVA8",
        "colab_type": "code",
        "colab": {}
      },
      "source": [
        "5 != 2"
      ],
      "execution_count": 0,
      "outputs": []
    },
    {
      "cell_type": "code",
      "metadata": {
        "id": "_eG-g4-IlaAP",
        "colab_type": "code",
        "colab": {}
      },
      "source": [
        "6 >= 12/2"
      ],
      "execution_count": 0,
      "outputs": []
    },
    {
      "cell_type": "code",
      "metadata": {
        "id": "9_FhIyr2lcgH",
        "colab_type": "code",
        "colab": {}
      },
      "source": [
        "3 <= 2"
      ],
      "execution_count": 0,
      "outputs": []
    },
    {
      "cell_type": "markdown",
      "metadata": {
        "id": "SPjMBMv6lgSz",
        "colab_type": "text"
      },
      "source": [
        "Otro operador que podemos usar es `and`, en este caso ambas comparaciones deben ser `True` para que el resultado de todo el comando sera `True`.  \n",
        "\n",
        "También está el operador `or`, en este caso solo una de las comparaciones debe ser `True` para que el resultado de todo el comando sea `True`."
      ]
    },
    {
      "cell_type": "code",
      "metadata": {
        "id": "ler2ONupmIE6",
        "colab_type": "code",
        "colab": {}
      },
      "source": [
        "6 > 2 and 2 < 3"
      ],
      "execution_count": 0,
      "outputs": []
    },
    {
      "cell_type": "code",
      "metadata": {
        "id": "x83Q68o0mMb3",
        "colab_type": "code",
        "colab": {}
      },
      "source": [
        "3 > 2 and 2 < 1"
      ],
      "execution_count": 0,
      "outputs": []
    },
    {
      "cell_type": "code",
      "metadata": {
        "id": "13Qv86z2mQrq",
        "colab_type": "code",
        "colab": {}
      },
      "source": [
        "3 > 2 or 2 < 1"
      ],
      "execution_count": 0,
      "outputs": []
    },
    {
      "cell_type": "markdown",
      "metadata": {
        "id": "s08RvPM_mVGk",
        "colab_type": "text"
      },
      "source": [
        "Python no es capaz de comparar un número `(int)` y un string `(str)`. "
      ]
    },
    {
      "cell_type": "code",
      "metadata": {
        "id": "ewUDzAVlmo_4",
        "colab_type": "code",
        "colab": {}
      },
      "source": [
        "1 > 'geometria'"
      ],
      "execution_count": 0,
      "outputs": []
    },
    {
      "cell_type": "markdown",
      "metadata": {
        "id": "zp0bCbQbnb_4",
        "colab_type": "text"
      },
      "source": [
        "Este tipo de objeto en Python se llama __Boolean__ (booleano). Hay solo dos objetos booleanos: \n",
        "\n",
        "\n",
        "*   `True` - Verdadero\n",
        "*   `False` - Falso\n",
        "\n",
        "Para que Python entienda esto, se deben escribir con la primera letra en mayúscula y el resto en minúscula. Si escribes __true, True o tRue__ no van a funcionar. \n",
        "\n",
        "Los valores booleanos pueden ser variables también. Por ejemplo:\n"
      ]
    },
    {
      "cell_type": "code",
      "metadata": {
        "id": "TYZ3_0QktEYl",
        "colab_type": "code",
        "colab": {}
      },
      "source": [
        " a = True\n",
        " a "
      ],
      "execution_count": 0,
      "outputs": []
    },
    {
      "cell_type": "code",
      "metadata": {
        "id": "KGIkhu8AtK0M",
        "colab_type": "code",
        "colab": {}
      },
      "source": [
        "a = 2 > 5 \n",
        "a"
      ],
      "execution_count": 0,
      "outputs": []
    },
    {
      "cell_type": "markdown",
      "metadata": {
        "id": "FRl4NMLHtS14",
        "colab_type": "text"
      },
      "source": [
        "__Ejercicio:__ Ejecuta los siguientes comandos:"
      ]
    },
    {
      "cell_type": "code",
      "metadata": {
        "id": "h83bN9QFtZx4",
        "colab_type": "code",
        "colab": {}
      },
      "source": [
        "True and True"
      ],
      "execution_count": 0,
      "outputs": []
    },
    {
      "cell_type": "code",
      "metadata": {
        "id": "B0Znef39tb4I",
        "colab_type": "code",
        "colab": {}
      },
      "source": [
        "False and True"
      ],
      "execution_count": 0,
      "outputs": []
    },
    {
      "cell_type": "code",
      "metadata": {
        "id": "37EDVJlvtd1H",
        "colab_type": "code",
        "colab": {}
      },
      "source": [
        "True or 1 == 1"
      ],
      "execution_count": 0,
      "outputs": []
    },
    {
      "cell_type": "code",
      "metadata": {
        "id": "9rWW5hUAthFI",
        "colab_type": "code",
        "colab": {}
      },
      "source": [
        "1 != 2"
      ],
      "execution_count": 0,
      "outputs": []
    },
    {
      "cell_type": "code",
      "metadata": {
        "id": "ZZEWfOixtj2s",
        "colab_type": "code",
        "colab": {}
      },
      "source": [
        "False and False"
      ],
      "execution_count": 0,
      "outputs": []
    },
    {
      "cell_type": "markdown",
      "metadata": {
        "id": "9gZuRjM1dWf5",
        "colab_type": "text"
      },
      "source": [
        "## 2. Estructuras de Control\n",
        "\n",
        "Las variables también permiten almacenar información para reusar y manipular después, primero necesitamos conocer las instrucciones que administran este flujo de información, éstas son conocidas como __estructuras de control__.\n",
        "\n",
        "### 2.1 Condicional ( If / elif / else )\n",
        "\n",
        "Podemos condicionar la ejecución de ciertas instrucciones dejando una espacio al comienzo de la línea (_indentanción_)."
      ]
    },
    {
      "cell_type": "code",
      "metadata": {
        "id": "TQ2je0I2mJYb",
        "colab_type": "code",
        "colab": {}
      },
      "source": [
        "a=1111\n",
        "if a>10:\n",
        "    print('Geometria con python')"
      ],
      "execution_count": 0,
      "outputs": []
    },
    {
      "cell_type": "markdown",
      "metadata": {
        "id": "Qbda6uFCmS4M",
        "colab_type": "text"
      },
      "source": [
        "Cuando necesitamos comprobar más de una condicion utilizamos `elif` tantas veces como sea necesario. También, mediante un `else` podemos destinar la ejecucicon de instrucciones si no se satisface ninguna condicion impuesta.\n",
        "\n",
        "__Ejercicio__: Completa el siguiente código."
      ]
    },
    {
      "cell_type": "code",
      "metadata": {
        "id": "DYbufY9OmblZ",
        "colab_type": "code",
        "colab": {}
      },
      "source": [
        "a=  #Escribe un valor numerico para a\n",
        "if a<3:\n",
        "    print('menor a tres')\n",
        "elif a>3:\n",
        "    print('mayor a tres')\n",
        "else:\n",
        "    print('no es numero')"
      ],
      "execution_count": 0,
      "outputs": []
    },
    {
      "cell_type": "code",
      "metadata": {
        "id": "0Bg4M3lJmmfi",
        "colab_type": "code",
        "colab": {}
      },
      "source": [
        "x = int(input(\"Introduce un numero entero: \"))\n",
        "if x < 0:\n",
        "  x = 0\n",
        "  print('Si es negativo lo cambio a cero')\n",
        "elif x == 0:\n",
        "  print('Cero')\n",
        "elif x == 1:\n",
        "  print('Uno')\n",
        "else:\n",
        "  print('Mayor a 1')"
      ],
      "execution_count": 0,
      "outputs": []
    },
    {
      "cell_type": "markdown",
      "metadata": {
        "id": "E7iRFxQInCFY",
        "colab_type": "text"
      },
      "source": [
        "### 2.2 Ciclo (`While`)\n",
        "\n",
        "Permite ejecutar un bloque de instrucciones ___mientras___ se cumpla una condición. Las instrucciones que deseamos repetir deben estar identadas."
      ]
    },
    {
      "cell_type": "code",
      "metadata": {
        "id": "Xsk22HkDnmWt",
        "colab_type": "code",
        "colab": {}
      },
      "source": [
        "contador=1\n",
        "while contador<5:\n",
        "    print(contador)\n",
        "    contador=contador+1"
      ],
      "execution_count": 0,
      "outputs": []
    },
    {
      "cell_type": "markdown",
      "metadata": {
        "id": "1wnZfCKtoNPw",
        "colab_type": "text"
      },
      "source": [
        "Podemos realizar _asignamiento multiple_. En Python, cualquier valor entero no cero es _verdadero_, mientras que _Cero_ es _falso_. La condición del ciclo `while` también puede ser una variable de tipo `string` o una lista de valores. En general, cualquier sucesión de valores con una longitud no cero es _verdadero_, mientras que sucesiones de longitud cero  son _falsas_.\n",
        "\n"
      ]
    },
    {
      "cell_type": "code",
      "metadata": {
        "id": "OqqjyCE5n0QZ",
        "colab_type": "code",
        "colab": {}
      },
      "source": [
        "# Serie de Fibonacci:\n",
        "# La suma de dos elementos consecutivos define el siguiente\n",
        "a, b = 0, 1\n",
        "while a < 10:\n",
        "  print(a)\n",
        "  a , b = b , a+b"
      ],
      "execution_count": 0,
      "outputs": []
    },
    {
      "cell_type": "markdown",
      "metadata": {
        "id": "s1sW793uqnao",
        "colab_type": "text"
      },
      "source": [
        "\n",
        "La palabra `end` puede usarse para evitar la nueva línea despues de cada operación o para terminar el código con un caracter diferente:"
      ]
    },
    {
      "cell_type": "code",
      "metadata": {
        "id": "OtWwQ7DerS21",
        "colab_type": "code",
        "colab": {}
      },
      "source": [
        "a, b = 0, 1\n",
        "while a < 1000:\n",
        "  print(a, end = ',')\n",
        "  a , b = b , a+b"
      ],
      "execution_count": 0,
      "outputs": []
    },
    {
      "cell_type": "markdown",
      "metadata": {
        "id": "ZxOecKuvrfVH",
        "colab_type": "text"
      },
      "source": [
        "### 2.3 Ciclo (`For`)\n",
        "\n",
        "Esta instrucción recorre los elementos en una lista, por cada uno de ellos, repite un bloque de instrucciones."
      ]
    },
    {
      "cell_type": "code",
      "metadata": {
        "id": "RdORQ7BnryON",
        "colab_type": "code",
        "colab": {}
      },
      "source": [
        "lista=['a','b','c']\n",
        "for elemento in lista:\n",
        "    print(elemento)"
      ],
      "execution_count": 0,
      "outputs": []
    },
    {
      "cell_type": "markdown",
      "metadata": {
        "id": "xjngkE19sExm",
        "colab_type": "text"
      },
      "source": [
        "### 2.4 La función `range( )`\n",
        "\n",
        "Si necesitar iterar sobre una sucesión de números, podemos usar la función `range()`. "
      ]
    },
    {
      "cell_type": "code",
      "metadata": {
        "id": "gVIsqK1JsrwY",
        "colab_type": "code",
        "colab": {}
      },
      "source": [
        "for i in range(5):\n",
        "  print(i)"
      ],
      "execution_count": 0,
      "outputs": []
    },
    {
      "cell_type": "markdown",
      "metadata": {
        "id": "zBQ23cmqsxjr",
        "colab_type": "text"
      },
      "source": [
        "El número final dado nunca es parte de la sucesión generada, pero `range(5)` genera 5 valores, en este ejemplo, empezó en 0 terminó en 4. También es posible empezar la función `range()` en un valor diferente, o especificar un incremento diferente (incluso números negativps; algunas veces a esto se le llama el `step`):"
      ]
    },
    {
      "cell_type": "code",
      "metadata": {
        "id": "HURUoQAItd4O",
        "colab_type": "code",
        "colab": {}
      },
      "source": [
        "for i in range(5, 10):\n",
        "  print(i)"
      ],
      "execution_count": 0,
      "outputs": []
    },
    {
      "cell_type": "code",
      "metadata": {
        "id": "pGaY2jPutuqk",
        "colab_type": "code",
        "colab": {}
      },
      "source": [
        "for i in range(0, 10, 3):\n",
        "  print(i)"
      ],
      "execution_count": 0,
      "outputs": []
    },
    {
      "cell_type": "code",
      "metadata": {
        "id": "qw8rWHP-t0Qp",
        "colab_type": "code",
        "colab": {}
      },
      "source": [
        "for i in range(-10, -100, -30):\n",
        "  print(i)"
      ],
      "execution_count": 0,
      "outputs": []
    },
    {
      "cell_type": "markdown",
      "metadata": {
        "id": "B6iiEIe0t6_T",
        "colab_type": "text"
      },
      "source": [
        "Para iterar sobre los índices de una sucesión, podemos combinar `range( )` y `len( )` como sigue:"
      ]
    },
    {
      "cell_type": "code",
      "metadata": {
        "id": "-R5SkPyguGHi",
        "colab_type": "code",
        "colab": {}
      },
      "source": [
        "a = ['Vamos', 'a', 'aprender', 'Geometria', 'con', 'Python']\n",
        "for i in range(len(a)):\n",
        "  print(i, a[i])"
      ],
      "execution_count": 0,
      "outputs": []
    },
    {
      "cell_type": "markdown",
      "metadata": {
        "id": "jSA_QhUCubnk",
        "colab_type": "text"
      },
      "source": [
        "### 2.5 `try / except`\n",
        "\n",
        "Es probable que durante la ejecución de nuestro código, ocurran errores. Podemos condicionar que, si ocurre un error, se ejecuten otras instrucciones. Este par de estructuras tiene cierto parecido a la pareja condicional `if / else`."
      ]
    },
    {
      "cell_type": "code",
      "metadata": {
        "id": "h9-cf9NYuzrW",
        "colab_type": "code",
        "colab": {}
      },
      "source": [
        "variable1='A'\n",
        "print(variable1<3)"
      ],
      "execution_count": 0,
      "outputs": []
    },
    {
      "cell_type": "code",
      "metadata": {
        "id": "giFd4ZDRu3Pb",
        "colab_type": "code",
        "colab": {}
      },
      "source": [
        "variable1='A'\n",
        "try:\n",
        "    print(variable1<3)\n",
        "except:\n",
        "    print('no es un numero')"
      ],
      "execution_count": 0,
      "outputs": []
    },
    {
      "cell_type": "markdown",
      "metadata": {
        "id": "Ill5Fo3EvCBg",
        "colab_type": "text"
      },
      "source": [
        "## 3. Diccionarios\n",
        "\n",
        "La estructura de diccionario nos permite almacenar diferentes tipos de variables es una misma estructura y acceder a ellas mediante \"etiquetas\". Los diccionarios se caracterizan en python por el uso de llaves $\\{\\,\\}$ para agrupar las variables contenidas.\n",
        "\n",
        "Como primer ejemplo pensemos en un directorio telefónico, donde las etiquetas son los nombres de nuestros contactos y a través de cada una de ellas se accede al número telefónico:\n",
        "\n"
      ]
    },
    {
      "cell_type": "code",
      "metadata": {
        "id": "WPdnnTd2vSug",
        "colab_type": "code",
        "colab": {}
      },
      "source": [
        "telefonos={'Juan': 555777,'Ana': 533233, 'Maria': 222345}"
      ],
      "execution_count": 0,
      "outputs": []
    },
    {
      "cell_type": "markdown",
      "metadata": {
        "id": "zAHRKzsbvVRY",
        "colab_type": "text"
      },
      "source": [
        "y para acceder al teléfono especificamos el nombre del contacto entre paréntesis cuadrados [ ]"
      ]
    },
    {
      "cell_type": "code",
      "metadata": {
        "id": "38aHkThKvXe2",
        "colab_type": "code",
        "colab": {}
      },
      "source": [
        "print(telefonos['Ana'])"
      ],
      "execution_count": 0,
      "outputs": []
    },
    {
      "cell_type": "markdown",
      "metadata": {
        "id": "LnsbdobkvZ_4",
        "colab_type": "text"
      },
      "source": [
        "Un segundo ejemplo es utilizar diccionarios para agrupar la información de un usuario:"
      ]
    },
    {
      "cell_type": "code",
      "metadata": {
        "id": "Sr4vVILcvdLe",
        "colab_type": "code",
        "colab": {}
      },
      "source": [
        "Juan={'nombre': 'Juan', 'edad':43,'email':'j_123@mail.com','telefono':555777,'nickname':'j123'}\n",
        "Ana={'nombre': 'Ana', 'edad':30,'email':'ann_@mail.com','telefono':533233,'nickname':'ana'}"
      ],
      "execution_count": 0,
      "outputs": []
    },
    {
      "cell_type": "markdown",
      "metadata": {
        "id": "HuXF6V4uvhGM",
        "colab_type": "text"
      },
      "source": [
        "y accedemos ala información de cada usuario:"
      ]
    },
    {
      "cell_type": "code",
      "metadata": {
        "id": "4u_fSE2Jvi4X",
        "colab_type": "code",
        "colab": {}
      },
      "source": [
        "print(Juan['email'])\n",
        "print(Ana['telefono'])"
      ],
      "execution_count": 0,
      "outputs": []
    },
    {
      "cell_type": "markdown",
      "metadata": {
        "id": "J5gI4Fe-wFhH",
        "colab_type": "text"
      },
      "source": [
        "## 4. Funciones\n",
        "\n",
        "Al igual que la función `len()`, podemos crear nuestras propias funciones. Una función es una secuencia de instrucciones que Python debe ejecutar. Cada función de Python comienza con la palabra clave `def`,  se le asigna un nombre y puede tener algunos parámetros. \n",
        "\n",
        " Veamos un ejemplo:"
      ]
    },
    {
      "cell_type": "code",
      "metadata": {
        "id": "cvov9xV22mwI",
        "colab_type": "code",
        "colab": {}
      },
      "source": [
        "def Hola():\n",
        "  print('Hola a todos')\n",
        "  print('Como estan?')\n",
        "  \n",
        "Hola()"
      ],
      "execution_count": 0,
      "outputs": []
    },
    {
      "cell_type": "markdown",
      "metadata": {
        "id": "r2YoC8tA3C_z",
        "colab_type": "text"
      },
      "source": [
        "Al final del cuadro anterior escribimos el nombre de la función ya que Python lee y ejecuta todo desde arriba hacia abajo. Así que para poder utilizar nuestra función, tenemos que reescribir su nombre en la parte inferior. \n",
        "\n",
        "Veamos otro ejemplo ahora con parámetros."
      ]
    },
    {
      "cell_type": "code",
      "metadata": {
        "id": "jM5HZoUR3mxw",
        "colab_type": "code",
        "colab": {}
      },
      "source": [
        "def hola(nombre):\n",
        "  if nombre == 'Python':\n",
        "    print('Hola Python')\n",
        "  elif nombre == 'Geometria':\n",
        "    print('Hola Geometria')\n",
        "  else: \n",
        "    print('Hola estudiante')"
      ],
      "execution_count": 0,
      "outputs": []
    },
    {
      "cell_type": "markdown",
      "metadata": {
        "id": "LYj7s-lq4bHF",
        "colab_type": "text"
      },
      "source": [
        "Ahora, llamemos a nuestra función y veamos que sucede:"
      ]
    },
    {
      "cell_type": "code",
      "metadata": {
        "id": "0AOTmfbx4K-f",
        "colab_type": "code",
        "colab": {}
      },
      "source": [
        "hola()"
      ],
      "execution_count": 0,
      "outputs": []
    },
    {
      "cell_type": "markdown",
      "metadata": {
        "id": "lpR9nEEa4f0d",
        "colab_type": "text"
      },
      "source": [
        "Ocurrió un error, esto es debido a que la función `hola()` requiere un parámetro que no pusimos."
      ]
    },
    {
      "cell_type": "code",
      "metadata": {
        "id": "B8DFWus-4rA8",
        "colab_type": "code",
        "colab": {}
      },
      "source": [
        "hola('Python')"
      ],
      "execution_count": 0,
      "outputs": []
    },
    {
      "cell_type": "code",
      "metadata": {
        "id": "AdXCLM4O4y0T",
        "colab_type": "code",
        "colab": {}
      },
      "source": [
        "hola('Pedro')"
      ],
      "execution_count": 0,
      "outputs": []
    },
    {
      "cell_type": "markdown",
      "metadata": {
        "id": "Pjni1bcD48yq",
        "colab_type": "text"
      },
      "source": [
        "Las funciones nos sirven para no tener que repetir el código cada que queramos hacer algo. \n",
        "\n",
        "Veamos un ejemplo más. "
      ]
    },
    {
      "cell_type": "code",
      "metadata": {
        "id": "Z6gn-lv65GBt",
        "colab_type": "code",
        "colab": {}
      },
      "source": [
        "def hola(nombre):\n",
        "  print('Hola ' + nombre + '!')"
      ],
      "execution_count": 0,
      "outputs": []
    },
    {
      "cell_type": "code",
      "metadata": {
        "id": "W5R4aYLg5PxC",
        "colab_type": "code",
        "colab": {}
      },
      "source": [
        "hola('Raquel')"
      ],
      "execution_count": 0,
      "outputs": []
    },
    {
      "cell_type": "markdown",
      "metadata": {
        "id": "EoqzxkHo2j2b",
        "colab_type": "text"
      },
      "source": [
        "Veamos un último ejemplo. Podemos crear una función que escriba la serie de Fibonacci hasta una cota arbitraria:\n"
      ]
    },
    {
      "cell_type": "code",
      "metadata": {
        "id": "18EWsqqDxEFX",
        "colab_type": "code",
        "colab": {}
      },
      "source": [
        "def fib(n): #escribe la serie de Fibonacci hasta n\n",
        "  \"\"\"Imprime la serie de Fibonacci hasta n.\"\"\"\n",
        "  a, b = 0, 1\n",
        "  while a < n:\n",
        "    print(a, end = ' ')\n",
        "    a, b = b, a+b\n",
        "  print( )"
      ],
      "execution_count": 0,
      "outputs": []
    },
    {
      "cell_type": "code",
      "metadata": {
        "id": "9E4TKj9Hxgzj",
        "colab_type": "code",
        "colab": {}
      },
      "source": [
        "#Ahora llama la función que acabamos de definir:\n",
        "fib(2000)"
      ],
      "execution_count": 0,
      "outputs": []
    },
    {
      "cell_type": "markdown",
      "metadata": {
        "id": "WC3RDUWRxpIa",
        "colab_type": "text"
      },
      "source": [
        "En este último ejemplo, el primer enunciado del cuerpo de la función es la documentación de la función. Es recomendable añadirlo, así no olvidaremos que hicimos en cada función o programa.\n",
        "\n"
      ]
    },
    {
      "cell_type": "markdown",
      "metadata": {
        "id": "z6tPnykK5zZ_",
        "colab_type": "text"
      },
      "source": [
        "## 5. Bucles\n",
        "\n",
        "Programar es sobre automatizar cosas, entonces no queremos saludar a cada persona por su nombre manualmente. Por eso son útiles los loops. \n",
        "\n",
        "Hagamos una lista con los nombres de varios estudiantes:"
      ]
    },
    {
      "cell_type": "code",
      "metadata": {
        "id": "vIRexkoS6QuS",
        "colab_type": "code",
        "colab": {}
      },
      "source": [
        "estudiantes = ['Raquel', 'Antonio', 'Valeria', 'Eduardo', 'Cristina', 'Miguel']"
      ],
      "execution_count": 0,
      "outputs": []
    },
    {
      "cell_type": "markdown",
      "metadata": {
        "id": "ljFu3T8W6hND",
        "colab_type": "text"
      },
      "source": [
        "Lo que vamos a hacer es saludar a cada estudiante por su nombre. Ya tenemos la función `hola` que hace eso. Ahora, vamos a usarla en un bucle."
      ]
    },
    {
      "cell_type": "code",
      "metadata": {
        "id": "J_z3aq506sgU",
        "colab_type": "code",
        "colab": {}
      },
      "source": [
        "def hola(nombre):\n",
        "  print('Hola ' + nombre + '!')\n",
        "\n",
        "estudiantes = ['Raquel', 'Antonio', 'Valeria', 'Eduardo', 'Cristina', 'Miguel']\n",
        "\n",
        "for nombre in estudiantes:\n",
        "  hola(nombre)\n",
        "  print('Siguiente estudiante')"
      ],
      "execution_count": 0,
      "outputs": []
    },
    {
      "cell_type": "markdown",
      "metadata": {
        "id": "eE0WBfHZ1iMW",
        "colab_type": "text"
      },
      "source": [
        "## 6. Editor y Script\n",
        "\n",
        "Si salimos del editor de Python o de este notebook y entramos de nuevo, las definiciones que ya hemos realizado como funciones y variable se pierden. Por lo tanto, si queremos escribir un programa más largo es mejor usar un editor de texto para escribir nuestro programa y después correrlo. Esto se conoce como crear un ___script___. \n",
        "\n",
        "Lo primero que necesitamos es instalar un editor de código. Existen muchos editores diferentes y la elección es principalmente una cuestión de preferencia personal. \n",
        "\n",
        "Los siguientes editores son algunas sugerencias."
      ]
    },
    {
      "cell_type": "markdown",
      "metadata": {
        "id": "NwuKt65vB8Yl",
        "colab_type": "text"
      },
      "source": [
        "### Scite\n",
        "\n",
        "Es un editor de programación senciallo y de aspecto parecido a un bloc de notas estándar de Windows. Tiene soporte par auna amplia variedad de formatos y de lenguajes de programación, con código de colores para comandos de sintaxis especialmente preparado para cada uno de ellos. \n",
        "\n",
        "[Descargalo aquí](https://www.scintilla.org/SciTEDownload.html)"
      ]
    },
    {
      "cell_type": "markdown",
      "metadata": {
        "id": "tUpQdfCmC2V5",
        "colab_type": "text"
      },
      "source": [
        "### Gedit\n",
        "\n",
        "Gedit es un editor de texto de código abierto, gratuito y que está disponible para todos los sistemas operativos.\n",
        "\n",
        "[Descargalo aquí](https://wiki.gnome.org/Apps/Gedit#Download)"
      ]
    },
    {
      "cell_type": "markdown",
      "metadata": {
        "id": "I-OWV5gKDH7H",
        "colab_type": "text"
      },
      "source": [
        "###  Sublime Text \n",
        "\n",
        "Sublime Text es un editor muy popular con un periodo de prueba gratis. Es fácil de instalar y de usar y está disponible para todos los sistemas operativos.\n",
        "\n",
        "[Descargalo aquí](https://www.sublimetext.com/3)\n"
      ]
    },
    {
      "cell_type": "markdown",
      "metadata": {
        "id": "8Tw_vzwCDc_V",
        "colab_type": "text"
      },
      "source": [
        "La razón de que necesitemos instalar un editor especializado de código, en lugar de usar un editor convencional como Word o Notepad es que el código tiene que ser un __texto plano__ y los editores convencionales no guardan texto plano, guardan texto enriquecido, usando formatos personalizados.\n",
        "\n",
        "Abre el editor de código y escribe algun código, guardalo con un nombre descriptivo y con la extensión __.py__. La extensión __.py__ es la que le dice a nuestro sistema operativo que es un archivo ejecutable de Python.\n",
        "\n",
        "Ahora, abre la terminal de Python y ejecuta el código del archivo así:\n",
        "\n",
        "`python nombre_archivo.py`"
      ]
    },
    {
      "cell_type": "markdown",
      "metadata": {
        "id": "XIPe6tdfwIsY",
        "colab_type": "text"
      },
      "source": [
        "## 7. Módulos\n",
        "\n",
        "\n",
        "\n",
        "\n"
      ]
    },
    {
      "cell_type": "markdown",
      "metadata": {
        "id": "mXwoFayawiOc",
        "colab_type": "text"
      },
      "source": [
        "Como mencionamos anteriormente, al salir y volver entrar a Python, las funciones que hayamos definido se pierden y en ocasiones hay funciones que creamos que vamos a ocupar en varios programas y que no queremos estar escribiendo de nuevo en cada programa. \n",
        "\n",
        "Python tiene una forma de poner definiciones en archivos y usarlas en un script o en una instancia interactiva del interprete como Colab. Tales archivos se llaman ___módulos___; las definiciones de un módulo pueden ser _importadas_ a otros módulos.\n",
        "\n",
        "Un módulo es un archivo que contiene definiciones y enunciados de Python. El nombre del archivo es el nombre del módulo con el sufijo `.py` anexado. Dentro de un módulo, el nombre del módulo (como un `string`) esta disponible como el valor de la variable global `__name__`. \n",
        "\n",
        "Veamos un ejemplo. Usa el editor de código para crear un archivo llamado `fibo.py` en el directorio actual en el que vayamos a correr el código con el siguiente contenido:\n",
        "\n"
      ]
    },
    {
      "cell_type": "code",
      "metadata": {
        "id": "ez3y_UK7qP_t",
        "colab_type": "code",
        "colab": {}
      },
      "source": [
        "\n",
        "# Modulo de numeros de Fibonacci\n",
        "\n",
        "def fib(n): # escribe la serie de Fibonacci hasta n\n",
        "  a , b = 0 , 1\n",
        "  while a < n :\n",
        "    print(a, end = ' ')\n",
        "    a , b = b , a + b\n",
        "  print()\n",
        "  \n",
        "def fib2(n): # regresa la serie de Fibonacci hasta n\n",
        "  resul = []\n",
        "  a, b = 0 , 1\n",
        "  while a < n :\n",
        "    result.append(a)\n",
        "    a , b = b , a + b\n",
        "  return result\n",
        "        \n",
        "\n"
      ],
      "execution_count": 0,
      "outputs": []
    },
    {
      "cell_type": "markdown",
      "metadata": {
        "id": "GNYCDm-oqzit",
        "colab_type": "text"
      },
      "source": [
        "Ahora, en el interprete de Python importa este módulo con el siguiente comando"
      ]
    },
    {
      "cell_type": "code",
      "metadata": {
        "id": "_YYIbyYEsdGu",
        "colab_type": "code",
        "colab": {}
      },
      "source": [
        "import fibo"
      ],
      "execution_count": 0,
      "outputs": []
    },
    {
      "cell_type": "markdown",
      "metadata": {
        "id": "5e6dRwgGsntE",
        "colab_type": "text"
      },
      "source": [
        "Ahora, ya puedes acceder a las funciones. Trata con los siguientes ejemplos:"
      ]
    },
    {
      "cell_type": "code",
      "metadata": {
        "id": "rVrHZjBtssll",
        "colab_type": "code",
        "colab": {}
      },
      "source": [
        "fibo.fib(1000)"
      ],
      "execution_count": 0,
      "outputs": []
    },
    {
      "cell_type": "code",
      "metadata": {
        "id": "Eli3Y4q1su_9",
        "colab_type": "code",
        "colab": {}
      },
      "source": [
        "fibo.fib2(100)"
      ],
      "execution_count": 0,
      "outputs": []
    },
    {
      "cell_type": "code",
      "metadata": {
        "id": "ImSSPL_rsy4h",
        "colab_type": "code",
        "colab": {}
      },
      "source": [
        "fibo.__name__"
      ],
      "execution_count": 0,
      "outputs": []
    },
    {
      "cell_type": "markdown",
      "metadata": {
        "id": "wiLmZY4Is2x8",
        "colab_type": "text"
      },
      "source": [
        "Además, si usas muy seguido alguna función, puedes renombrarla para acceder a ella más fácil. Por ejemplo:"
      ]
    },
    {
      "cell_type": "code",
      "metadata": {
        "id": "LrNzkvPgs-vu",
        "colab_type": "code",
        "colab": {}
      },
      "source": [
        "fib = fibo.fib\n",
        "fib(500)"
      ],
      "execution_count": 0,
      "outputs": []
    },
    {
      "cell_type": "markdown",
      "metadata": {
        "id": "xHQt54ia54st",
        "colab_type": "text"
      },
      "source": [
        "Otra forma en la que podemos importar todos los nombres que se definieron en los módulos es la siguiente:"
      ]
    },
    {
      "cell_type": "code",
      "metadata": {
        "id": "XBh2YTqf6FMz",
        "colab_type": "code",
        "colab": {}
      },
      "source": [
        "from fibo import *\n",
        "fib(500)"
      ],
      "execution_count": 0,
      "outputs": []
    },
    {
      "cell_type": "markdown",
      "metadata": {
        "id": "iok_j-K46oWC",
        "colab_type": "text"
      },
      "source": [
        "Si el nombre del módulo va seguido de la palabra `as`, entonces el nombre que sigue a la palabra `as` será el nombre con el que llamaremos a ese módulo. Por ejemplo:"
      ]
    }
  ]
}